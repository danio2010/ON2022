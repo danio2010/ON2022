{
  "nbformat": 4,
  "nbformat_minor": 0,
  "metadata": {
    "colab": {
      "name": "Pandas2_live.ipynb",
      "provenance": [],
      "collapsed_sections": [],
      "authorship_tag": "ABX9TyNujjQ5VZBaLpBVanCM1zEJ",
      "include_colab_link": true
    },
    "kernelspec": {
      "name": "python3",
      "display_name": "Python 3"
    },
    "language_info": {
      "name": "python"
    }
  },
  "cells": [
    {
      "cell_type": "markdown",
      "metadata": {
        "id": "view-in-github",
        "colab_type": "text"
      },
      "source": [
        "<a href=\"https://colab.research.google.com/github/danio2010/ON2022/blob/main/Pandas2_live.ipynb\" target=\"_parent\"><img src=\"https://colab.research.google.com/assets/colab-badge.svg\" alt=\"Open In Colab\"/></a>"
      ]
    },
    {
      "cell_type": "code",
      "execution_count": null,
      "metadata": {
        "id": "fmtbDLAicjIY"
      },
      "outputs": [],
      "source": [
        "import pandas as pd\n",
        "import numpy as np\n",
        "import matplotlib.pyplot as plt\n",
        "\n",
        "dane=pd.read_csv('https://analityk.edu.pl/wp-content/uploads/2020/12/worldcities.csv')"
      ]
    },
    {
      "cell_type": "markdown",
      "source": [
        "### Maski logiczne\n",
        "\n",
        "Zamiast and używamy &\n",
        "\n",
        "zamiast or używamy |"
      ],
      "metadata": {
        "id": "9sU2QymYc6ac"
      }
    },
    {
      "cell_type": "code",
      "source": [
        ""
      ],
      "metadata": {
        "id": "LnbY-RSRc6xA"
      },
      "execution_count": null,
      "outputs": []
    },
    {
      "cell_type": "code",
      "source": [
        ""
      ],
      "metadata": {
        "id": "T4PvI6lWc_o6"
      },
      "execution_count": null,
      "outputs": []
    },
    {
      "cell_type": "markdown",
      "source": [
        "\n",
        "### Zadanie\n",
        "* Znajdź wszystkie miasta w Polsce, które mają liczbę ludności mniejszą niż 10 tyś.\n",
        "\n",
        "* Tym, które nie mają danych w kolumnie capital wpisz 'brak'.\n",
        "\n",
        "* Dodaj do całego zbioru danych nową kolumnę 'małe miasto', które zawiera True dla miast poniżej 10 tyś mieszkańców  i False w pozostałych przypadkach.\n",
        "\n",
        "* Posortuj dane alfabetycznie po nazwie kraju (na stałe, a nie tylko jako widok)"
      ],
      "metadata": {
        "id": "lxiVEh1SdAnn"
      }
    },
    {
      "cell_type": "code",
      "source": [
        ""
      ],
      "metadata": {
        "id": "CCtg4a10dCmz"
      },
      "execution_count": null,
      "outputs": []
    },
    {
      "cell_type": "code",
      "source": [
        ""
      ],
      "metadata": {
        "id": "CYtbC2oSdJUN"
      },
      "execution_count": null,
      "outputs": []
    },
    {
      "cell_type": "code",
      "source": [
        ""
      ],
      "metadata": {
        "id": "hGpxD9-udJxp"
      },
      "execution_count": null,
      "outputs": []
    },
    {
      "cell_type": "markdown",
      "source": [
        "## Apply, groupby, agg"
      ],
      "metadata": {
        "id": "GVGZ3q-OdKBI"
      }
    },
    {
      "cell_type": "code",
      "source": [
        ""
      ],
      "metadata": {
        "id": "zkeL_eAZdO14"
      },
      "execution_count": null,
      "outputs": []
    },
    {
      "cell_type": "code",
      "source": [
        ""
      ],
      "metadata": {
        "id": "PmmAqkDOdPUw"
      },
      "execution_count": null,
      "outputs": []
    },
    {
      "cell_type": "code",
      "source": [
        ""
      ],
      "metadata": {
        "id": "-SrEOjrhdPZk"
      },
      "execution_count": null,
      "outputs": []
    },
    {
      "cell_type": "code",
      "source": [
        ""
      ],
      "metadata": {
        "id": "OIdeJZOCdPkk"
      },
      "execution_count": null,
      "outputs": []
    },
    {
      "cell_type": "markdown",
      "source": [
        "## Analiza zbioru danych\n",
        "\n",
        "https://raw.githubusercontent.com/dshahid380/Data-analysis-with-pandas/master/datasets/weather.csv\n",
        "\n",
        "Zadania:\n",
        "\n",
        "* określ ile jest rekordów (wierszy) w DataFrame\n",
        "* znajdź brakujące wartości; uzupełnij je\n",
        "* usuń kolumny: temperatura odczuwalna, kierunek wiatru i dzienne podsumowanie\n",
        "\n",
        "* określ średnie dzienne statystyki i zapisz je do pliku .xlsx\n",
        "* narysuj na jednym wykresie maksymalne i minimalne temperatury dzienne w maju 2010\n",
        "* narysuj wykres słupkowy liczby dni ze średnią wilgotnością poniżej 60% w poszczególnych latach\n",
        "\n",
        "Uwaga: stwórz dodatkowe robocze kolumny w czasie pracy"
      ],
      "metadata": {
        "id": "Ys7CLTCxdP5j"
      }
    },
    {
      "cell_type": "code",
      "source": [
        ""
      ],
      "metadata": {
        "id": "UrFlQSNAdT_w"
      },
      "execution_count": null,
      "outputs": []
    },
    {
      "cell_type": "code",
      "source": [
        ""
      ],
      "metadata": {
        "id": "wroe27IPdrAI"
      },
      "execution_count": null,
      "outputs": []
    },
    {
      "cell_type": "code",
      "source": [
        ""
      ],
      "metadata": {
        "id": "KyHupYUUdrDn"
      },
      "execution_count": null,
      "outputs": []
    },
    {
      "cell_type": "code",
      "source": [
        ""
      ],
      "metadata": {
        "id": "n9lvYOT2drFd"
      },
      "execution_count": null,
      "outputs": []
    },
    {
      "cell_type": "code",
      "source": [
        ""
      ],
      "metadata": {
        "id": "35Kgk0scdrIE"
      },
      "execution_count": null,
      "outputs": []
    },
    {
      "cell_type": "code",
      "source": [
        ""
      ],
      "metadata": {
        "id": "hMa22HGVdrJm"
      },
      "execution_count": null,
      "outputs": []
    },
    {
      "cell_type": "code",
      "source": [
        ""
      ],
      "metadata": {
        "id": "2s4oIvN5drRo"
      },
      "execution_count": null,
      "outputs": []
    },
    {
      "cell_type": "code",
      "source": [
        ""
      ],
      "metadata": {
        "id": "zdypVDTGdrUa"
      },
      "execution_count": null,
      "outputs": []
    },
    {
      "cell_type": "code",
      "source": [
        ""
      ],
      "metadata": {
        "id": "OAZw-izmdrWo"
      },
      "execution_count": null,
      "outputs": []
    },
    {
      "cell_type": "code",
      "source": [
        ""
      ],
      "metadata": {
        "id": "7OQwwhFydrZU"
      },
      "execution_count": null,
      "outputs": []
    },
    {
      "cell_type": "code",
      "source": [
        ""
      ],
      "metadata": {
        "id": "FGmOmoGNdrdM"
      },
      "execution_count": null,
      "outputs": []
    },
    {
      "cell_type": "markdown",
      "source": [
        "### Zadanie\n",
        "Wytnij pierwsze 10 wierszy z dancyh ze skrótami krajów. Następnie przygotuj DataFrame z **wszystkimi** miastami i kodami z tych pierwszych 10 wierszy (pozostałe NaN). Następnie przygoruj DF, gdzie będą tylko kraje wymienione w tych 10 wierszach.\n",
        "\n",
        "### Zadanie\n",
        "* Połącz trzy zbiory danych z plików [tutaj](https://github.com/jakevdp/data-USstates/)\n",
        "* zbadaj o brakujące dane\n",
        "* zaprezentuj na wykresie ludność w poszczególnych stanach w roku 2010 w podziale na kategorie wiekowe\n",
        "* zaprezentuj na wykresie gęstości zaludnienia w poszczególnych stanach w kolejności malejącej"
      ],
      "metadata": {
        "id": "CLbXbhe7droB"
      }
    },
    {
      "cell_type": "code",
      "source": [
        ""
      ],
      "metadata": {
        "id": "bFvV3pYldsEB"
      },
      "execution_count": null,
      "outputs": []
    }
  ]
}