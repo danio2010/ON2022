{
 "cells": [
  {
   "cell_type": "markdown",
   "id": "worthy-standard",
   "metadata": {},
   "source": [
    "# Regresja"
   ]
  },
  {
   "cell_type": "code",
   "execution_count": 1,
   "id": "mental-metropolitan",
   "metadata": {},
   "outputs": [],
   "source": [
    "from sklearn import datasets\n",
    "from sklearn import model_selection\n",
    "from sklearn import linear_model\n",
    "from sklearn import metrics\n",
    "\n",
    "\n",
    "import matplotlib.pyplot as plt\n",
    "import numpy as np\n",
    "import pandas as pd\n"
   ]
  },
  {
   "cell_type": "markdown",
   "id": "steady-surge",
   "metadata": {},
   "source": [
    "Generujemy dane za pomocą podmodułu ```datasets```. Tworzymy 50 próbek z 50 cechami (```X_all```), z których tylko 10 jest istotnych dla przewidywania wyników z ```y_all```."
   ]
  },
  {
   "cell_type": "code",
   "execution_count": 4,
   "id": "indirect-cologne",
   "metadata": {},
   "outputs": [],
   "source": [
    "X_all, y_all = datasets.make_regression(n_samples=50, n_features=50, n_informative=10, random_state=10)"
   ]
  },
  {
   "cell_type": "code",
   "execution_count": 10,
   "id": "speaking-offense",
   "metadata": {},
   "outputs": [
    {
     "name": "stdout",
     "output_type": "stream",
     "text": [
      "(50, 50)\n",
      "(50,)\n"
     ]
    }
   ],
   "source": [
    "print(X_all.shape)\n",
    "print(y_all.shape)"
   ]
  },
  {
   "cell_type": "markdown",
   "id": "brilliant-sword",
   "metadata": {},
   "source": [
    "Dzielimy zbiór danych na zbiór uczący i zbiór na którym przetestujemy model. W tym celu korzystamy z ```model_selection.train_test_split```."
   ]
  },
  {
   "cell_type": "code",
   "execution_count": 11,
   "id": "rolled-crossing",
   "metadata": {},
   "outputs": [],
   "source": [
    "X_train,X_test,y_train, y_test = model_selection.train_test_split(X_all, y_all, train_size=0.5)"
   ]
  },
  {
   "cell_type": "markdown",
   "id": "premier-geology",
   "metadata": {},
   "source": [
    "W celu przeprowadzenia regresji tworzymy najpierw model będący *obiektem* klasy ```linear_model.LinearRegression```. Najważniejsze metody i atrybuty:\n",
    "\n",
    "* ```fit()``` - dopasowuje model do danych (uczących)\n",
    "* ```predict()``` - przewiduje wynik dla nowych danych\n",
    "* ```coef_``` - pokazuje dopasowane parametry modelu\n"
   ]
  },
  {
   "cell_type": "code",
   "execution_count": 12,
   "id": "addressed-driving",
   "metadata": {},
   "outputs": [],
   "source": [
    "model=linear_model.LinearRegression()"
   ]
  },
  {
   "cell_type": "code",
   "execution_count": 13,
   "id": "polar-behavior",
   "metadata": {},
   "outputs": [
    {
     "data": {
      "text/plain": [
       "LinearRegression()"
      ]
     },
     "execution_count": 13,
     "metadata": {},
     "output_type": "execute_result"
    }
   ],
   "source": [
    "model.fit(X_train,y_train)"
   ]
  },
  {
   "cell_type": "code",
   "execution_count": 15,
   "id": "spoken-congo",
   "metadata": {},
   "outputs": [
    {
     "data": {
      "text/plain": [
       "{'copy_X': True,\n",
       " 'fit_intercept': True,\n",
       " 'n_jobs': None,\n",
       " 'normalize': 'deprecated',\n",
       " 'positive': False}"
      ]
     },
     "execution_count": 15,
     "metadata": {},
     "output_type": "execute_result"
    }
   ],
   "source": [
    "model.get_params()"
   ]
  },
  {
   "cell_type": "markdown",
   "id": "established-retention",
   "metadata": {},
   "source": [
    "Obliczmy średnią kwadratową błędów modelu od danych (odchylenie standardowe), na których się uczył."
   ]
  },
  {
   "cell_type": "code",
   "execution_count": 30,
   "id": "dietary-conversation",
   "metadata": {},
   "outputs": [
    {
     "data": {
      "text/plain": [
       "4.917479369466188e-13"
      ]
     },
     "execution_count": 30,
     "metadata": {},
     "output_type": "execute_result"
    }
   ],
   "source": [
    "def sse(dane1,dane2):\n",
    "    return np.sqrt(np.sum((dane1-dane2)**2)/dane1.size)\n",
    "sse(y_train,model.predict(X_train))\n",
    "# to samo co np.sqrt(metrics.mean_squared_error(y_train,model.predict(X_train)))\n",
    "# lub (y_train-model.predict(X_train)).std()"
   ]
  },
  {
   "cell_type": "markdown",
   "id": "listed-kansas",
   "metadata": {},
   "source": [
    "Błąd jest bardzo mały, ponieważ model jest nadmiernie dopasowany (25 próbek z 50 cechami - tj. 50 niewiadomych i 25 równań). Z tego względu nie nadaje się on do przewidywania danych spoza tego zbioru. Sprawdźmy błąd na zbiorze testowym."
   ]
  },
  {
   "cell_type": "code",
   "execution_count": 25,
   "id": "residential-japanese",
   "metadata": {},
   "outputs": [
    {
     "data": {
      "text/plain": [
       "326316.2661886166"
      ]
     },
     "execution_count": 25,
     "metadata": {},
     "output_type": "execute_result"
    }
   ],
   "source": [
    "sse(y_test,model.predict(X_test))"
   ]
  },
  {
   "cell_type": "markdown",
   "id": "ruled-renewal",
   "metadata": {},
   "source": [
    "Uwaga: inną miarą dopasowania, wbudowaną w sklearn, jest obliczanie współczynike $R^2$ metodą ```LinearRegression.score()``` naszego modelującego obiektu."
   ]
  },
  {
   "cell_type": "code",
   "execution_count": 26,
   "id": "sacred-asthma",
   "metadata": {},
   "outputs": [
    {
     "name": "stdout",
     "output_type": "stream",
     "text": [
      "1.0\n",
      "0.6947218302905946\n"
     ]
    }
   ],
   "source": [
    "print(model.score(X_train,y_train))\n",
    "print(model.score(X_test,y_test))"
   ]
  },
  {
   "cell_type": "code",
   "execution_count": 27,
   "id": "spanish-participation",
   "metadata": {},
   "outputs": [],
   "source": [
    "def rysuj_reszty_i_współczynniki(resid_train, resid_test, coeff):\n",
    "    fig, axes = plt.subplots(1, 3, figsize=(12, 3))\n",
    "    axes[0].bar(np.arange(len(resid_train)), resid_train)\n",
    "    axes[0].set_xlabel(\"Numer próbki\")\n",
    "    axes[0].set_ylabel(\"Reszta\")\n",
    "    axes[0].set_title(\"Zbiór uczący\")\n",
    "    axes[1].bar(np.arange(len(resid_test)), resid_test)\n",
    "    axes[1].set_xlabel(\"Numer próbki\")\n",
    "    axes[1].set_ylabel(\"Reszta\")\n",
    "    axes[1].set_title(\"Zbiór testowy\")\n",
    "    axes[2].bar(np.arange(len(coeff)), coeff)\n",
    "    axes[2].set_xlabel(\"Numer współczynnika\")\n",
    "    axes[2].set_ylabel(\"Wartość współczynnika\")\n",
    "    fig.tight_layout()\n",
    "    return fig, axes"
   ]
  },
  {
   "cell_type": "code",
   "execution_count": 29,
   "id": "prepared-runner",
   "metadata": {},
   "outputs": [
    {
     "data": {
      "text/plain": [
       "(<Figure size 864x216 with 3 Axes>,\n",
       " array([<AxesSubplot:title={'center':'Zbiór uczący'}, xlabel='Numer próbki', ylabel='Reszta'>,\n",
       "        <AxesSubplot:title={'center':'Zbiór testowy'}, xlabel='Numer próbki', ylabel='Reszta'>,\n",
       "        <AxesSubplot:xlabel='Numer współczynnika', ylabel='Wartość współczynnika'>],\n",
       "       dtype=object))"
      ]
     },
     "execution_count": 29,
     "metadata": {},
     "output_type": "execute_result"
    },
    {
     "data": {
      "image/png": "[encoded data removed]",
      "text/plain": [
       "<Figure size 864x216 with 3 Axes>"
      ]
     },
     "metadata": {
      "needs_background": "light"
     },
     "output_type": "display_data"
    }
   ],
   "source": [
    "rysuj_reszty_i_współczynniki(y_train-model.predict(X_train),y_test-model.predict(X_train),model.coef_)"
   ]
  },
  {
   "cell_type": "markdown",
   "id": "regulated-bridges",
   "metadata": {},
   "source": [
    "## Sposoby poprawienia modelu regresji\n",
    "Model domyślnie dopasowuje się metodą najmniejszych kwadratów, czyli minimalizuje funkcję sse. Możemy zmienić tę 'taktykę' dodając 'karę' za jakość dobranych współczynników:\n",
    "* metoda LASSO, ```linear_model.Lasso``` (preferuje jak najmniej niezerowych współczynników)\n",
    "* regresja grzebietowa, ```linear_model.Ridge``` (preferuje jak najmniejsze współczynniki)"
   ]
  },
  {
   "cell_type": "markdown",
   "id": "international-conference",
   "metadata": {},
   "source": [
    " \n"
   ]
  },
  {
   "cell_type": "markdown",
   "id": "available-adolescent",
   "metadata": {},
   "source": [
    "## Zadanie domowe\n",
    "* wygeneruj dane do regresji liniowej z 100 próbkami, 40 cechami, w tym 20 istotnymi i wybranym random_state\n",
    "* przeprowadź analizę metodą Lasso dla różnych parametrów $\\alpha$ i spróbuj określić jaki współczynnik jest najlepszy dla przewidywania przyszłych wyników"
   ]
  },
  {
   "cell_type": "code",
   "execution_count": 87,
   "id": "sharp-design",
   "metadata": {},
   "outputs": [],
   "source": [
    "X_all, y_all = datasets.make_regression(n_samples=100, n_features=40, n_informative=20, random_state=123)\n",
    "X_train, X_test, y_train, y_test=model_selection.train_test_split(X_all,y_all)"
   ]
  },
  {
   "cell_type": "code",
   "execution_count": 93,
   "id": "empty-adelaide",
   "metadata": {},
   "outputs": [],
   "source": [
    "alphas=np.logspace(-4,2,200)\n",
    "ocena_train = []\n",
    "ocena_test = []\n",
    "\n",
    "for n, alpha in enumerate(alphas):\n",
    "    model = linear_model.Lasso(alpha=alpha)\n",
    "    model.fit(X_train, y_train)\n",
    "    resid = y_train - model.predict(X_train)\n",
    "    ocena_train.append(sum(resid**2))\n",
    "    resid = y_test - model.predict(X_test)\n",
    "    ocena_test.append(sum(resid**2))\n",
    "\n",
    "    "
   ]
  },
  {
   "cell_type": "code",
   "execution_count": 94,
   "id": "experimental-trigger",
   "metadata": {},
   "outputs": [
    {
     "data": {
      "text/plain": [
       "Text(0, 0.5, 'Suma kwadratów błędów')"
      ]
     },
     "execution_count": 94,
     "metadata": {},
     "output_type": "execute_result"
    },
    {
     "data": {
      "image/png": "[encoded data removed]",
      "text/plain": [
       "<Figure size 720x576 with 1 Axes>"
      ]
     },
     "metadata": {
      "needs_background": "light"
     },
     "output_type": "display_data"
    }
   ],
   "source": [
    "fig=plt.figure(figsize=(10,8))\n",
    "ax=fig.add_subplot()\n",
    "\n",
    "ax.semilogy(np.log10(alphas), ocena_train, label=\"Zbiór uczący\")\n",
    "ax.semilogy(np.log10(alphas), ocena_test, label=\"Zbiór testowy\")\n",
    "ax.legend(loc=0)\n",
    "ax.set_xlabel(r\"$\\log_{10}\\alpha$\", fontsize=14)\n",
    "ax.set_ylabel(r\"Suma kwadratów błędów\", fontsize=14)"
   ]
  },
  {
   "cell_type": "code",
   "execution_count": 97,
   "id": "identical-wealth",
   "metadata": {},
   "outputs": [
    {
     "data": {
      "text/plain": [
       "Lasso(alpha=0.0003036771118035457)"
      ]
     },
     "execution_count": 97,
     "metadata": {},
     "output_type": "execute_result"
    }
   ],
   "source": [
    "best_alpha=alphas[np.argmin(ocena_test)]\n",
    "model=linear_model.Lasso(alpha=best_alpha)\n",
    "model.fit(X_train,y_train)"
   ]
  },
  {
   "cell_type": "code",
   "execution_count": 98,
   "id": "seasonal-funds",
   "metadata": {},
   "outputs": [
    {
     "name": "stdout",
     "output_type": "stream",
     "text": [
      "Liczba niezerowych współczynników: 39\n"
     ]
    }
   ],
   "source": [
    "print(f'Liczba niezerowych współczynników: {(np.round(model.coef_,5)!=0).sum()}')"
   ]
  },
  {
   "cell_type": "markdown",
   "id": "professional-wellington",
   "metadata": {},
   "source": [
    "# Klasyfikacja\n",
    "Dokonamy klasyfikacji (przypisania do grup) danych na podstawie zbioru danych cech irysów. Korzystamy z modelu ```linear_model.LogisticRegression```. Można też wykorzystać w tym celu:\n",
    "* drzewa decyzyjne ```tree.DecisionTreeClassifier```\n",
    "* metodę najbliższego sąsiada ```neighbors.KNeighborsClassifier```"
   ]
  },
  {
   "cell_type": "code",
   "execution_count": null,
   "id": "resident-overhead",
   "metadata": {},
   "outputs": [],
   "source": []
  },
  {
   "cell_type": "code",
   "execution_count": 36,
   "id": "viral-pasta",
   "metadata": {},
   "outputs": [],
   "source": [
    "irysy=datasets.load_iris()"
   ]
  },
  {
   "cell_type": "code",
   "execution_count": 37,
   "id": "choice-fields",
   "metadata": {},
   "outputs": [
    {
     "data": {
      "text/plain": [
       "sklearn.utils.Bunch"
      ]
     },
     "execution_count": 37,
     "metadata": {},
     "output_type": "execute_result"
    }
   ],
   "source": [
    "type(irysy) #to jakiś nieznany nam obiekt - tzw. kontener z danymi"
   ]
  },
  {
   "cell_type": "code",
   "execution_count": 38,
   "id": "opened-pathology",
   "metadata": {},
   "outputs": [
    {
     "name": "stdout",
     "output_type": "stream",
     "text": [
      "{'data': array([[5.1, 3.5, 1.4, 0.2],\n",
      "       [4.9, 3. , 1.4, 0.2],\n",
      "       [4.7, 3.2, 1.3, 0.2],\n",
      "       [4.6, 3.1, 1.5, 0.2],\n",
      "       [5. , 3.6, 1.4, 0.2],\n",
      "       [5.4, 3.9, 1.7, 0.4],\n",
      "       [4.6, 3.4, 1.4, 0.3],\n",
      "       [5. , 3.4, 1.5, 0.2],\n",
      "       [4.4, 2.9, 1.4, 0.2],\n",
      "       [4.9, 3.1, 1.5, 0.1],\n",
      "       [5.4, 3.7, 1.5, 0.2],\n",
      "       [4.8, 3.4, 1.6, 0.2],\n",
      "       [4.8, 3. , 1.4, 0.1],\n",
      "       [4.3, 3. , 1.1, 0.1],\n",
      "       [5.8, 4. , 1.2, 0.2],\n",
      "       [5.7, 4.4, 1.5, 0.4],\n",
      "       [5.4, 3.9, 1.3, 0.4],\n",
      "       [5.1, 3.5, 1.4, 0.3],\n",
      "       [5.7, 3.8, 1.7, 0.3],\n",
      "       [5.1, 3.8, 1.5, 0.3],\n",
      "       [5.4, 3.4, 1.7, 0.2],\n",
      "       [5.1, 3.7, 1.5, 0.4],\n",
      "       [4.6, 3.6, 1. , 0.2],\n",
      "       [5.1, 3.3, 1.7, 0.5],\n",
      "       [4.8, 3.4, 1.9, 0.2],\n",
      "       [5. , 3. , 1.6, 0.2],\n",
      "       [5. , 3.4, 1.6, 0.4],\n",
      "       [5.2, 3.5, 1.5, 0.2],\n",
      "       [5.2, 3.4, 1.4, 0.2],\n",
      "       [4.7, 3.2, 1.6, 0.2],\n",
      "       [4.8, 3.1, 1.6, 0.2],\n",
      "       [5.4, 3.4, 1.5, 0.4],\n",
      "       [5.2, 4.1, 1.5, 0.1],\n",
      "       [5.5, 4.2, 1.4, 0.2],\n",
      "       [4.9, 3.1, 1.5, 0.2],\n",
      "       [5. , 3.2, 1.2, 0.2],\n",
      "       [5.5, 3.5, 1.3, 0.2],\n",
      "       [4.9, 3.6, 1.4, 0.1],\n",
      "       [4.4, 3. , 1.3, 0.2],\n",
      "       [5.1, 3.4, 1.5, 0.2],\n",
      "       [5. , 3.5, 1.3, 0.3],\n",
      "       [4.5, 2.3, 1.3, 0.3],\n",
      "       [4.4, 3.2, 1.3, 0.2],\n",
      "       [5. , 3.5, 1.6, 0.6],\n",
      "       [5.1, 3.8, 1.9, 0.4],\n",
      "       [4.8, 3. , 1.4, 0.3],\n",
      "       [5.1, 3.8, 1.6, 0.2],\n",
      "       [4.6, 3.2, 1.4, 0.2],\n",
      "       [5.3, 3.7, 1.5, 0.2],\n",
      "       [5. , 3.3, 1.4, 0.2],\n",
      "       [7. , 3.2, 4.7, 1.4],\n",
      "       [6.4, 3.2, 4.5, 1.5],\n",
      "       [6.9, 3.1, 4.9, 1.5],\n",
      "       [5.5, 2.3, 4. , 1.3],\n",
      "       [6.5, 2.8, 4.6, 1.5],\n",
      "       [5.7, 2.8, 4.5, 1.3],\n",
      "       [6.3, 3.3, 4.7, 1.6],\n",
      "       [4.9, 2.4, 3.3, 1. ],\n",
      "       [6.6, 2.9, 4.6, 1.3],\n",
      "       [5.2, 2.7, 3.9, 1.4],\n",
      "       [5. , 2. , 3.5, 1. ],\n",
      "       [5.9, 3. , 4.2, 1.5],\n",
      "       [6. , 2.2, 4. , 1. ],\n",
      "       [6.1, 2.9, 4.7, 1.4],\n",
      "       [5.6, 2.9, 3.6, 1.3],\n",
      "       [6.7, 3.1, 4.4, 1.4],\n",
      "       [5.6, 3. , 4.5, 1.5],\n",
      "       [5.8, 2.7, 4.1, 1. ],\n",
      "       [6.2, 2.2, 4.5, 1.5],\n",
      "       [5.6, 2.5, 3.9, 1.1],\n",
      "       [5.9, 3.2, 4.8, 1.8],\n",
      "       [6.1, 2.8, 4. , 1.3],\n",
      "       [6.3, 2.5, 4.9, 1.5],\n",
      "       [6.1, 2.8, 4.7, 1.2],\n",
      "       [6.4, 2.9, 4.3, 1.3],\n",
      "       [6.6, 3. , 4.4, 1.4],\n",
      "       [6.8, 2.8, 4.8, 1.4],\n",
      "       [6.7, 3. , 5. , 1.7],\n",
      "       [6. , 2.9, 4.5, 1.5],\n",
      "       [5.7, 2.6, 3.5, 1. ],\n",
      "       [5.5, 2.4, 3.8, 1.1],\n",
      "       [5.5, 2.4, 3.7, 1. ],\n",
      "       [5.8, 2.7, 3.9, 1.2],\n",
      "       [6. , 2.7, 5.1, 1.6],\n",
      "       [5.4, 3. , 4.5, 1.5],\n",
      "       [6. , 3.4, 4.5, 1.6],\n",
      "       [6.7, 3.1, 4.7, 1.5],\n",
      "       [6.3, 2.3, 4.4, 1.3],\n",
      "       [5.6, 3. , 4.1, 1.3],\n",
      "       [5.5, 2.5, 4. , 1.3],\n",
      "       [5.5, 2.6, 4.4, 1.2],\n",
      "       [6.1, 3. , 4.6, 1.4],\n",
      "       [5.8, 2.6, 4. , 1.2],\n",
      "       [5. , 2.3, 3.3, 1. ],\n",
      "       [5.6, 2.7, 4.2, 1.3],\n",
      "       [5.7, 3. , 4.2, 1.2],\n",
      "       [5.7, 2.9, 4.2, 1.3],\n",
      "       [6.2, 2.9, 4.3, 1.3],\n",
      "       [5.1, 2.5, 3. , 1.1],\n",
      "       [5.7, 2.8, 4.1, 1.3],\n",
      "       [6.3, 3.3, 6. , 2.5],\n",
      "       [5.8, 2.7, 5.1, 1.9],\n",
      "       [7.1, 3. , 5.9, 2.1],\n",
      "       [6.3, 2.9, 5.6, 1.8],\n",
      "       [6.5, 3. , 5.8, 2.2],\n",
      "       [7.6, 3. , 6.6, 2.1],\n",
      "       [4.9, 2.5, 4.5, 1.7],\n",
      "       [7.3, 2.9, 6.3, 1.8],\n",
      "       [6.7, 2.5, 5.8, 1.8],\n",
      "       [7.2, 3.6, 6.1, 2.5],\n",
      "       [6.5, 3.2, 5.1, 2. ],\n",
      "       [6.4, 2.7, 5.3, 1.9],\n",
      "       [6.8, 3. , 5.5, 2.1],\n",
      "       [5.7, 2.5, 5. , 2. ],\n",
      "       [5.8, 2.8, 5.1, 2.4],\n",
      "       [6.4, 3.2, 5.3, 2.3],\n",
      "       [6.5, 3. , 5.5, 1.8],\n",
      "       [7.7, 3.8, 6.7, 2.2],\n",
      "       [7.7, 2.6, 6.9, 2.3],\n",
      "       [6. , 2.2, 5. , 1.5],\n",
      "       [6.9, 3.2, 5.7, 2.3],\n",
      "       [5.6, 2.8, 4.9, 2. ],\n",
      "       [7.7, 2.8, 6.7, 2. ],\n",
      "       [6.3, 2.7, 4.9, 1.8],\n",
      "       [6.7, 3.3, 5.7, 2.1],\n",
      "       [7.2, 3.2, 6. , 1.8],\n",
      "       [6.2, 2.8, 4.8, 1.8],\n",
      "       [6.1, 3. , 4.9, 1.8],\n",
      "       [6.4, 2.8, 5.6, 2.1],\n",
      "       [7.2, 3. , 5.8, 1.6],\n",
      "       [7.4, 2.8, 6.1, 1.9],\n",
      "       [7.9, 3.8, 6.4, 2. ],\n",
      "       [6.4, 2.8, 5.6, 2.2],\n",
      "       [6.3, 2.8, 5.1, 1.5],\n",
      "       [6.1, 2.6, 5.6, 1.4],\n",
      "       [7.7, 3. , 6.1, 2.3],\n",
      "       [6.3, 3.4, 5.6, 2.4],\n",
      "       [6.4, 3.1, 5.5, 1.8],\n",
      "       [6. , 3. , 4.8, 1.8],\n",
      "       [6.9, 3.1, 5.4, 2.1],\n",
      "       [6.7, 3.1, 5.6, 2.4],\n",
      "       [6.9, 3.1, 5.1, 2.3],\n",
      "       [5.8, 2.7, 5.1, 1.9],\n",
      "       [6.8, 3.2, 5.9, 2.3],\n",
      "       [6.7, 3.3, 5.7, 2.5],\n",
      "       [6.7, 3. , 5.2, 2.3],\n",
      "       [6.3, 2.5, 5. , 1.9],\n",
      "       [6.5, 3. , 5.2, 2. ],\n",
      "       [6.2, 3.4, 5.4, 2.3],\n",
      "       [5.9, 3. , 5.1, 1.8]]), 'target': array([0, 0, 0, 0, 0, 0, 0, 0, 0, 0, 0, 0, 0, 0, 0, 0, 0, 0, 0, 0, 0, 0,\n",
      "       0, 0, 0, 0, 0, 0, 0, 0, 0, 0, 0, 0, 0, 0, 0, 0, 0, 0, 0, 0, 0, 0,\n",
      "       0, 0, 0, 0, 0, 0, 1, 1, 1, 1, 1, 1, 1, 1, 1, 1, 1, 1, 1, 1, 1, 1,\n",
      "       1, 1, 1, 1, 1, 1, 1, 1, 1, 1, 1, 1, 1, 1, 1, 1, 1, 1, 1, 1, 1, 1,\n",
      "       1, 1, 1, 1, 1, 1, 1, 1, 1, 1, 1, 1, 2, 2, 2, 2, 2, 2, 2, 2, 2, 2,\n",
      "       2, 2, 2, 2, 2, 2, 2, 2, 2, 2, 2, 2, 2, 2, 2, 2, 2, 2, 2, 2, 2, 2,\n",
      "       2, 2, 2, 2, 2, 2, 2, 2, 2, 2, 2, 2, 2, 2, 2, 2, 2, 2]), 'frame': None, 'target_names': array(['setosa', 'versicolor', 'virginica'], dtype='<U10'), 'DESCR': '.. _iris_dataset:\\n\\nIris plants dataset\\n--------------------\\n\\n**Data Set Characteristics:**\\n\\n    :Number of Instances: 150 (50 in each of three classes)\\n    :Number of Attributes: 4 numeric, predictive attributes and the class\\n    :Attribute Information:\\n        - sepal length in cm\\n        - sepal width in cm\\n        - petal length in cm\\n        - petal width in cm\\n        - class:\\n                - Iris-Setosa\\n                - Iris-Versicolour\\n                - Iris-Virginica\\n                \\n    :Summary Statistics:\\n\\n    ============== ==== ==== ======= ===== ====================\\n                    Min  Max   Mean    SD   Class Correlation\\n    ============== ==== ==== ======= ===== ====================\\n    sepal length:   4.3  7.9   5.84   0.83    0.7826\\n    sepal width:    2.0  4.4   3.05   0.43   -0.4194\\n    petal length:   1.0  6.9   3.76   1.76    0.9490  (high!)\\n    petal width:    0.1  2.5   1.20   0.76    0.9565  (high!)\\n    ============== ==== ==== ======= ===== ====================\\n\\n    :Missing Attribute Values: None\\n    :Class Distribution: 33.3% for each of 3 classes.\\n    :Creator: R.A. Fisher\\n    :Donor: Michael Marshall (MARSHALL%PLU@io.arc.nasa.gov)\\n    :Date: July, 1988\\n\\nThe famous Iris database, first used by Sir R.A. Fisher. The dataset is taken\\nfrom Fisher\\'s paper. Note that it\\'s the same as in R, but not as in the UCI\\nMachine Learning Repository, which has two wrong data points.\\n\\nThis is perhaps the best known database to be found in the\\npattern recognition literature.  Fisher\\'s paper is a classic in the field and\\nis referenced frequently to this day.  (See Duda & Hart, for example.)  The\\ndata set contains 3 classes of 50 instances each, where each class refers to a\\ntype of iris plant.  One class is linearly separable from the other 2; the\\nlatter are NOT linearly separable from each other.\\n\\n.. topic:: References\\n\\n   - Fisher, R.A. \"The use of multiple measurements in taxonomic problems\"\\n     Annual Eugenics, 7, Part II, 179-188 (1936); also in \"Contributions to\\n     Mathematical Statistics\" (John Wiley, NY, 1950).\\n   - Duda, R.O., & Hart, P.E. (1973) Pattern Classification and Scene Analysis.\\n     (Q327.D83) John Wiley & Sons.  ISBN 0-471-22361-1.  See page 218.\\n   - Dasarathy, B.V. (1980) \"Nosing Around the Neighborhood: A New System\\n     Structure and Classification Rule for Recognition in Partially Exposed\\n     Environments\".  IEEE Transactions on Pattern Analysis and Machine\\n     Intelligence, Vol. PAMI-2, No. 1, 67-71.\\n   - Gates, G.W. (1972) \"The Reduced Nearest Neighbor Rule\".  IEEE Transactions\\n     on Information Theory, May 1972, 431-433.\\n   - See also: 1988 MLC Proceedings, 54-64.  Cheeseman et al\"s AUTOCLASS II\\n     conceptual clustering system finds 3 classes in the data.\\n   - Many, many more ...', 'feature_names': ['sepal length (cm)', 'sepal width (cm)', 'petal length (cm)', 'petal width (cm)'], 'filename': 'iris.csv', 'data_module': 'sklearn.datasets.data'}\n"
     ]
    }
   ],
   "source": [
    "print(irysy)"
   ]
  },
  {
   "cell_type": "code",
   "execution_count": 41,
   "id": "micro-canal",
   "metadata": {},
   "outputs": [
    {
     "name": "stdout",
     "output_type": "stream",
     "text": [
      "['setosa' 'versicolor' 'virginica']\n",
      "['sepal length (cm)', 'sepal width (cm)', 'petal length (cm)', 'petal width (cm)']\n"
     ]
    }
   ],
   "source": [
    "print(irysy.target_names)\n",
    "print(irysy.feature_names)"
   ]
  },
  {
   "cell_type": "markdown",
   "id": "unknown-yield",
   "metadata": {},
   "source": [
    "Właściwe dane oraz przewidywane wyniki mamy w ```irysy.data``` oraz ```irysy.target```"
   ]
  },
  {
   "cell_type": "code",
   "execution_count": 47,
   "id": "recognized-information",
   "metadata": {},
   "outputs": [
    {
     "name": "stdout",
     "output_type": "stream",
     "text": [
      "(150, 4)\n",
      "(150,)\n"
     ]
    }
   ],
   "source": [
    "print(irysy.data.shape)\n",
    "print(irysy.target.shape)"
   ]
  },
  {
   "cell_type": "code",
   "execution_count": 51,
   "id": "oriental-penguin",
   "metadata": {},
   "outputs": [],
   "source": [
    "X_train,X_test,y_train,y_test=model_selection.train_test_split(irysy.data,irysy.target,train_size=0.7)"
   ]
  },
  {
   "cell_type": "code",
   "execution_count": 52,
   "id": "convinced-antarctica",
   "metadata": {},
   "outputs": [
    {
     "data": {
      "text/plain": [
       "LogisticRegression()"
      ]
     },
     "execution_count": 52,
     "metadata": {},
     "output_type": "execute_result"
    }
   ],
   "source": [
    "model_log=linear_model.LogisticRegression()\n",
    "model_log.fit(X_train,y_train)"
   ]
  },
  {
   "cell_type": "code",
   "execution_count": 53,
   "id": "vanilla-talent",
   "metadata": {},
   "outputs": [],
   "source": [
    "y_pred=model_log.predict(X_test)"
   ]
  },
  {
   "cell_type": "markdown",
   "id": "bibliographic-universal",
   "metadata": {},
   "source": [
    "Teraz możemy sprawdzić różnice między naszymi klasyfikacjami, a danymi testowymi. Można też użyć gotowych funkcji do oceny."
   ]
  },
  {
   "cell_type": "code",
   "execution_count": 55,
   "id": "flexible-tampa",
   "metadata": {},
   "outputs": [
    {
     "data": {
      "text/plain": [
       "array([ 0,  0,  0,  0,  0,  0,  0,  0,  0,  0,  0,  0,  0,  0,  0,  0,  0,\n",
       "        0,  0,  0,  0,  0, -1,  0,  0,  0,  0,  0,  0,  0,  0,  0,  0,  0,\n",
       "        0, -1, -1,  0,  0,  0,  0,  0,  0,  0,  0])"
      ]
     },
     "execution_count": 55,
     "metadata": {},
     "output_type": "execute_result"
    }
   ],
   "source": [
    "y_pred-y_test"
   ]
  },
  {
   "cell_type": "code",
   "execution_count": 59,
   "id": "twenty-steal",
   "metadata": {},
   "outputs": [
    {
     "name": "stdout",
     "output_type": "stream",
     "text": [
      "              precision    recall  f1-score   support\n",
      "\n",
      "           0       1.00      1.00      1.00        16\n",
      "           1       0.77      1.00      0.87        10\n",
      "           2       1.00      0.84      0.91        19\n",
      "\n",
      "    accuracy                           0.93        45\n",
      "   macro avg       0.92      0.95      0.93        45\n",
      "weighted avg       0.95      0.93      0.93        45\n",
      "\n"
     ]
    }
   ],
   "source": [
    "print(metrics.classification_report(y_test,y_pred))"
   ]
  },
  {
   "cell_type": "markdown",
   "id": "every-confusion",
   "metadata": {},
   "source": [
    "## Zadanie \n",
    "Spośród cech irysów wybierz tylko dwie i dokonaj klasyfikacji gatunków za ich pomocą metodą najbliższych trzech sąsiadów (dla wcześniej zdefiniowanego podziału). Narysuj wykres punktowy opisujący te dwie wybrane cechy i z kolorami punktów zależnymi od klasyfikacji (na danych testowych). Obok narysuj ten sam wykres z oryginalną klasyfikacją."
   ]
  },
  {
   "cell_type": "code",
   "execution_count": 87,
   "id": "stuffed-mauritius",
   "metadata": {},
   "outputs": [
    {
     "data": {
      "text/plain": [
       "KNeighborsClassifier(n_neighbors=3)"
      ]
     },
     "execution_count": 87,
     "metadata": {},
     "output_type": "execute_result"
    }
   ],
   "source": [
    "from sklearn import neighbors\n",
    "model=neighbors.KNeighborsClassifier(3)\n",
    "x=0\n",
    "y=2\n",
    "model.fit(X_train[:,[x,y]],y_train)"
   ]
  },
  {
   "cell_type": "code",
   "execution_count": 116,
   "id": "advance-network",
   "metadata": {},
   "outputs": [
    {
     "data": {
      "text/plain": [
       "<matplotlib.legend.Legend at 0x2065ca90>"
      ]
     },
     "execution_count": 116,
     "metadata": {},
     "output_type": "execute_result"
    },
    {
     "data": {
      "image/png": "[encoded data removed]",
      "text/plain": [
       "<Figure size 720x360 with 2 Axes>"
      ]
     },
     "metadata": {
      "needs_background": "light"
     },
     "output_type": "display_data"
    }
   ],
   "source": [
    "y_predict=model.predict(X_test[:,[x,y]])\n",
    "fig,ax=plt.subplots(1,2,figsize=(10,5))\n",
    "for i in range(3):\n",
    "    maska=(y_predict == i)\n",
    "    ax[0].scatter(X_test[:,x][maska],X_test[:,y][maska],label=irysy.target_names[i])\n",
    "    ax[0].set(title='Podział przewidywany', xlabel=irysy.feature_names[x],ylabel=irysy.feature_names[y])\n",
    "ax[0].legend()\n",
    "\n",
    "for i in range(3):\n",
    "    maska=(y_test == i)\n",
    "    ax[1].scatter(X_test[:,x][maska],X_test[:,y][maska],label=irysy.target_names[i])\n",
    "    ax[1].set(title='Podział właściwy (z danych)', xlabel=irysy.feature_names[x],ylabel=irysy.feature_names[y])\n",
    "ax[1].legend()"
   ]
  },
  {
   "cell_type": "code",
   "execution_count": null,
   "id": "biological-sending",
   "metadata": {},
   "outputs": [],
   "source": []
  },
  {
   "cell_type": "markdown",
   "id": "subsequent-culture",
   "metadata": {},
   "source": [
    "# Klasteryzacja (uczenie nienadzorowane)\n",
    "Przeprowadzimy klasteryzację kwiatów metodą $k$-średnich. Musimy ręcznie ustalić liczbę klastrów"
   ]
  },
  {
   "cell_type": "code",
   "execution_count": 121,
   "id": "veterinary-conditioning",
   "metadata": {},
   "outputs": [],
   "source": [
    "from sklearn import cluster\n",
    "liczba_grup=3\n",
    "X=irysy.data\n",
    "y=irysy.target\n",
    "model=cluster.KMeans(liczba_grup)"
   ]
  },
  {
   "cell_type": "code",
   "execution_count": 122,
   "id": "attended-venture",
   "metadata": {},
   "outputs": [
    {
     "data": {
      "text/plain": [
       "KMeans(n_clusters=3)"
      ]
     },
     "execution_count": 122,
     "metadata": {},
     "output_type": "execute_result"
    }
   ],
   "source": [
    "model.fit(X) # w dopasowaniu nie używamy wyników - tak jakbyśmy ich nie znali"
   ]
  },
  {
   "cell_type": "code",
   "execution_count": 148,
   "id": "civil-store",
   "metadata": {},
   "outputs": [],
   "source": [
    "y_pred=model.predict(X)"
   ]
  },
  {
   "cell_type": "code",
   "execution_count": 147,
   "id": "municipal-table",
   "metadata": {},
   "outputs": [
    {
     "data": {
      "text/plain": [
       "array([ True,  True,  True,  True,  True,  True,  True,  True,  True,\n",
       "        True,  True,  True,  True,  True,  True,  True,  True,  True,\n",
       "        True,  True,  True,  True,  True,  True,  True,  True,  True,\n",
       "        True,  True,  True,  True,  True,  True,  True,  True,  True,\n",
       "        True,  True,  True,  True,  True,  True,  True,  True,  True,\n",
       "        True,  True,  True,  True,  True,  True,  True, False,  True,\n",
       "        True,  True,  True,  True,  True,  True,  True,  True,  True,\n",
       "        True,  True,  True,  True,  True,  True,  True,  True,  True,\n",
       "        True,  True,  True,  True,  True, False,  True,  True,  True,\n",
       "        True,  True,  True,  True,  True,  True,  True,  True,  True,\n",
       "        True,  True,  True,  True,  True,  True,  True,  True,  True,\n",
       "        True,  True, False,  True,  True,  True,  True, False,  True,\n",
       "        True,  True,  True,  True,  True, False, False,  True,  True,\n",
       "        True,  True, False,  True, False,  True, False,  True,  True,\n",
       "       False, False,  True,  True,  True,  True,  True, False,  True,\n",
       "        True,  True,  True, False,  True,  True,  True, False,  True,\n",
       "        True,  True, False,  True,  True, False])"
      ]
     },
     "execution_count": 147,
     "metadata": {},
     "output_type": "execute_result"
    }
   ],
   "source": [
    "(y_pred-y)==0"
   ]
  },
  {
   "cell_type": "markdown",
   "id": "standing-trademark",
   "metadata": {},
   "source": [
    "Skąd tyle błędów? Po prostu model nadał inne numerki niż nasze oryginalne."
   ]
  },
  {
   "cell_type": "code",
   "execution_count": 149,
   "id": "cross-preference",
   "metadata": {},
   "outputs": [
    {
     "data": {
      "text/plain": [
       "array([[ 0, 50,  0],\n",
       "       [48,  0,  2],\n",
       "       [14,  0, 36]], dtype=int64)"
      ]
     },
     "execution_count": 149,
     "metadata": {},
     "output_type": "execute_result"
    }
   ],
   "source": [
    "metrics.confusion_matrix(y, y_pred)"
   ]
  },
  {
   "cell_type": "code",
   "execution_count": 150,
   "id": "christian-speaker",
   "metadata": {},
   "outputs": [],
   "source": [
    "maska0=(y_pred==0)\n",
    "maska1=(y_pred==1)\n",
    "\n",
    "y_pred[maska0]=1\n",
    "y_pred[maska1]=0"
   ]
  },
  {
   "cell_type": "code",
   "execution_count": 153,
   "id": "vertical-scheduling",
   "metadata": {},
   "outputs": [
    {
     "data": {
      "text/plain": [
       "16"
      ]
     },
     "execution_count": 153,
     "metadata": {},
     "output_type": "execute_result"
    }
   ],
   "source": [
    "np.sum((y_pred-y)!=0)"
   ]
  },
  {
   "cell_type": "code",
   "execution_count": 154,
   "id": "technological-rating",
   "metadata": {},
   "outputs": [
    {
     "data": {
      "text/plain": [
       "array([[50,  0,  0],\n",
       "       [ 0, 48,  2],\n",
       "       [ 0, 14, 36]], dtype=int64)"
      ]
     },
     "execution_count": 154,
     "metadata": {},
     "output_type": "execute_result"
    }
   ],
   "source": [
    "metrics.confusion_matrix(y, y_pred)"
   ]
  },
  {
   "cell_type": "markdown",
   "id": "caring-netscape",
   "metadata": {},
   "source": [
    "Zróbmy to samo bez definiowania liczby klastrów, np. za pomocą Mean-Shift Clustering."
   ]
  },
  {
   "cell_type": "code",
   "execution_count": 159,
   "id": "brilliant-establishment",
   "metadata": {},
   "outputs": [],
   "source": [
    "model=cluster.MeanShift()\n",
    "model.fit(X)\n",
    "y_pred=model.predict(X)"
   ]
  },
  {
   "cell_type": "code",
   "execution_count": 160,
   "id": "direct-tutorial",
   "metadata": {},
   "outputs": [
    {
     "data": {
      "text/plain": [
       "array([1, 1, 1, 1, 1, 1, 1, 1, 1, 1, 1, 1, 1, 1, 1, 1, 1, 1, 1, 1, 1, 1,\n",
       "       1, 1, 1, 1, 1, 1, 1, 1, 1, 1, 1, 1, 1, 1, 1, 1, 1, 1, 1, 1, 1, 1,\n",
       "       1, 1, 1, 1, 1, 1, 0, 0, 0, 0, 0, 0, 0, 0, 0, 0, 0, 0, 0, 0, 0, 0,\n",
       "       0, 0, 0, 0, 0, 0, 0, 0, 0, 0, 0, 0, 0, 0, 0, 0, 0, 0, 0, 0, 0, 0,\n",
       "       0, 0, 0, 0, 0, 0, 0, 0, 0, 0, 1, 0, 0, 0, 0, 0, 0, 0, 0, 0, 0, 0,\n",
       "       0, 0, 0, 0, 0, 0, 0, 0, 0, 0, 0, 0, 0, 0, 0, 0, 0, 0, 0, 0, 0, 0,\n",
       "       0, 0, 0, 0, 0, 0, 0, 0, 0, 0, 0, 0, 0, 0, 0, 0, 0, 0], dtype=int32)"
      ]
     },
     "execution_count": 160,
     "metadata": {},
     "output_type": "execute_result"
    }
   ],
   "source": [
    "y_pred"
   ]
  },
  {
   "cell_type": "markdown",
   "id": "massive-charity",
   "metadata": {},
   "source": [
    "# Redukcja wymiarowości (metoda PCA)"
   ]
  },
  {
   "cell_type": "code",
   "execution_count": 2,
   "id": "noted-headset",
   "metadata": {},
   "outputs": [],
   "source": [
    "import matplotlib.pyplot as plt\n",
    "import numpy as np\n",
    "\n",
    "from sklearn import datasets\n",
    "from sklearn.decomposition import PCA\n",
    "\n",
    "irysy = datasets.load_iris()\n",
    "X = irysy.data\n",
    "y = irysy.target\n",
    "redukcja=PCA(n_components=2)\n",
    "redukcja.fit(X)\n",
    "#nie ma tu funkcji predict, ale funkcja transform\n",
    "X_zredukowany=redukcja.transform(X)"
   ]
  },
  {
   "cell_type": "code",
   "execution_count": 172,
   "id": "assumed-evaluation",
   "metadata": {},
   "outputs": [
    {
     "data": {
      "text/plain": [
       "<matplotlib.legend.Legend at 0x20dffb70>"
      ]
     },
     "execution_count": 172,
     "metadata": {},
     "output_type": "execute_result"
    },
    {
     "data": {
      "image/png": "[encoded data removed]",
      "text/plain": [
       "<Figure size 432x288 with 1 Axes>"
      ]
     },
     "metadata": {
      "needs_background": "light"
     },
     "output_type": "display_data"
    }
   ],
   "source": [
    "for i, target_name in zip([0, 1, 2], irysy.target_names):\n",
    "    plt.scatter(\n",
    "        X_zredukowany[y == i, 0], X_zredukowany[y == i, 1], alpha=0.8, label=target_name\n",
    "    )\n",
    "plt.legend()"
   ]
  },
  {
   "cell_type": "markdown",
   "id": "loving-directory",
   "metadata": {},
   "source": [
    "Dane do PCA powinny być wstępnie przetworzone - powinny mieć średnią 0 i wariancję 1. [Przykład błędów bez przeskalowania](https://scikit-learn.org/stable/auto_examples/preprocessing/plot_scaling_importance.html#sphx-glr-auto-examples-preprocessing-plot-scaling-importance-py). Użyjemy w tym celu ```sklear.preprocessing.StandardScaler```\n",
    "\n",
    "Zadbamy wszystko w konkretnym przykładzie analizy raka piersi."
   ]
  },
  {
   "cell_type": "code",
   "execution_count": 228,
   "id": "herbal-seating",
   "metadata": {},
   "outputs": [
    {
     "data": {
      "text/plain": [
       "(569, 30)"
      ]
     },
     "execution_count": 228,
     "metadata": {},
     "output_type": "execute_result"
    }
   ],
   "source": [
    "from sklearn.datasets import load_breast_cancer\n",
    "rak=load_breast_cancer()\n",
    "rak_dane=rak.data\n",
    "rak_dane.shape\n"
   ]
  },
  {
   "cell_type": "code",
   "execution_count": 229,
   "id": "loving-alignment",
   "metadata": {},
   "outputs": [
    {
     "data": {
      "text/plain": [
       "array(['malignant', 'benign'], dtype='<U9')"
      ]
     },
     "execution_count": 229,
     "metadata": {},
     "output_type": "execute_result"
    }
   ],
   "source": [
    "rak.target_names"
   ]
  },
  {
   "cell_type": "code",
   "execution_count": 230,
   "id": "incoming-loading",
   "metadata": {},
   "outputs": [
    {
     "data": {
      "text/plain": [
       "(569,)"
      ]
     },
     "execution_count": 230,
     "metadata": {},
     "output_type": "execute_result"
    }
   ],
   "source": [
    "rak_etykiety=rak.target\n",
    "rak_etykiety.shape"
   ]
  },
  {
   "cell_type": "markdown",
   "id": "robust-reservoir",
   "metadata": {},
   "source": [
    "Żeby stworzyć DF z danymi i etykietami musimy skleić tablice ```rak_dane``` i ```rak_etykiety```, ale ta druga musi mieć najpierw dobry rozmiar."
   ]
  },
  {
   "cell_type": "code",
   "execution_count": 231,
   "id": "operating-music",
   "metadata": {},
   "outputs": [],
   "source": [
    "rak_final=np.concatenate([rak_dane,rak_etykiety.reshape(569,1)],axis=1)"
   ]
  },
  {
   "cell_type": "code",
   "execution_count": 232,
   "id": "mediterranean-pasta",
   "metadata": {},
   "outputs": [],
   "source": [
    "rak_DF=pd.DataFrame(rak_final,columns=np.concatenate([rak.feature_names,['etykiety']]))"
   ]
  },
  {
   "cell_type": "code",
   "execution_count": 233,
   "id": "dependent-function",
   "metadata": {},
   "outputs": [],
   "source": [
    "rak_DF;"
   ]
  },
  {
   "cell_type": "code",
   "execution_count": 234,
   "id": "pursuant-banner",
   "metadata": {},
   "outputs": [],
   "source": [
    "rak_DF['etykiety'].replace(0, 'złośliwy',inplace=True)\n",
    "rak_DF['etykiety'].replace(1, 'łagodny',inplace=True)"
   ]
  },
  {
   "cell_type": "markdown",
   "id": "relevant-arabic",
   "metadata": {},
   "source": [
    "Stworzyliśmy ładny DF do analizy. Ale do machine learningu potrzebujemy surowych danych."
   ]
  },
  {
   "cell_type": "code",
   "execution_count": 235,
   "id": "controlled-distance",
   "metadata": {},
   "outputs": [],
   "source": [
    "x=rak_DF.drop(columns=['etykiety']).values\n",
    "#nie chcemy pracować z gotowymi etykietkami. To zaburzyłoby rzutowanie. Nie potrzebujemy też nazw kategorii."
   ]
  },
  {
   "cell_type": "code",
   "execution_count": 236,
   "id": "alternate-christopher",
   "metadata": {},
   "outputs": [
    {
     "data": {
      "text/plain": [
       "(61.89071233951961, 228.29740508276657)"
      ]
     },
     "execution_count": 236,
     "metadata": {},
     "output_type": "execute_result"
    }
   ],
   "source": [
    "np.mean(x),np.std(x)"
   ]
  },
  {
   "cell_type": "code",
   "execution_count": 3,
   "id": "threaded-valuable",
   "metadata": {},
   "outputs": [
    {
     "ename": "NameError",
     "evalue": "name 'x' is not defined",
     "output_type": "error",
     "traceback": [
      "\u001b[1;31m---------------------------------------------------------------------------\u001b[0m",
      "\u001b[1;31mNameError\u001b[0m                                 Traceback (most recent call last)",
      "\u001b[1;32m<ipython-input-3-220a8d31be78>\u001b[0m in \u001b[0;36m<module>\u001b[1;34m\u001b[0m\n\u001b[0;32m      1\u001b[0m \u001b[1;32mfrom\u001b[0m \u001b[0msklearn\u001b[0m\u001b[1;33m.\u001b[0m\u001b[0mpreprocessing\u001b[0m \u001b[1;32mimport\u001b[0m \u001b[0mStandardScaler\u001b[0m\u001b[1;33m\u001b[0m\u001b[1;33m\u001b[0m\u001b[0m\n\u001b[1;32m----> 2\u001b[1;33m \u001b[0mx\u001b[0m\u001b[1;33m=\u001b[0m\u001b[0mStandardScaler\u001b[0m\u001b[1;33m(\u001b[0m\u001b[1;33m)\u001b[0m\u001b[1;33m.\u001b[0m\u001b[0mfit\u001b[0m\u001b[1;33m(\u001b[0m\u001b[0mx\u001b[0m\u001b[1;33m)\u001b[0m\u001b[1;33m.\u001b[0m\u001b[0mtransform\u001b[0m\u001b[1;33m(\u001b[0m\u001b[0mx\u001b[0m\u001b[1;33m)\u001b[0m\u001b[1;33m\u001b[0m\u001b[1;33m\u001b[0m\u001b[0m\n\u001b[0m",
      "\u001b[1;31mNameError\u001b[0m: name 'x' is not defined"
     ]
    }
   ],
   "source": [
    "from sklearn.preprocessing import StandardScaler\n",
    "x=StandardScaler().fit(x).transform(x)"
   ]
  },
  {
   "cell_type": "code",
   "execution_count": 238,
   "id": "medical-interim",
   "metadata": {},
   "outputs": [
    {
     "data": {
      "text/plain": [
       "(-6.826538293184326e-17, 1.0)"
      ]
     },
     "execution_count": 238,
     "metadata": {},
     "output_type": "execute_result"
    }
   ],
   "source": [
    "np.mean(x),np.std(x)"
   ]
  },
  {
   "cell_type": "markdown",
   "id": "outstanding-front",
   "metadata": {},
   "source": [
    "Teraz przechodzimy do właściwego rzutowania; na początek na dwie zmienne, żeby się dobrze robiło obrazek."
   ]
  },
  {
   "cell_type": "code",
   "execution_count": 239,
   "id": "prerequisite-indonesian",
   "metadata": {},
   "outputs": [],
   "source": [
    "from sklearn.decomposition import PCA\n",
    "pca_rak=PCA(n_components=2)\n",
    "glowne_skladowe_rak=pca_rak.fit(x).transform(x)"
   ]
  },
  {
   "cell_type": "code",
   "execution_count": 240,
   "id": "historic-angel",
   "metadata": {},
   "outputs": [],
   "source": [
    "gs_rak_DF=pd.DataFrame(data=glowne_skladowe_rak, columns=['skladowa1','skladowa2'])"
   ]
  },
  {
   "cell_type": "code",
   "execution_count": 241,
   "id": "recovered-proxy",
   "metadata": {},
   "outputs": [
    {
     "data": {
      "text/html": [
       "<div>\n",
       "<style scoped>\n",
       "    .dataframe tbody tr th:only-of-type {\n",
       "        vertical-align: middle;\n",
       "    }\n",
       "\n",
       "    .dataframe tbody tr th {\n",
       "        vertical-align: top;\n",
       "    }\n",
       "\n",
       "    .dataframe thead th {\n",
       "        text-align: right;\n",
       "    }\n",
       "</style>\n",
       "<table border=\"1\" class=\"dataframe\">\n",
       "  <thead>\n",
       "    <tr style=\"text-align: right;\">\n",
       "      <th></th>\n",
       "      <th>skladowa1</th>\n",
       "      <th>skladowa2</th>\n",
       "    </tr>\n",
       "  </thead>\n",
       "  <tbody>\n",
       "    <tr>\n",
       "      <th>0</th>\n",
       "      <td>9.192837</td>\n",
       "      <td>1.948583</td>\n",
       "    </tr>\n",
       "    <tr>\n",
       "      <th>1</th>\n",
       "      <td>2.387802</td>\n",
       "      <td>-3.768172</td>\n",
       "    </tr>\n",
       "    <tr>\n",
       "      <th>2</th>\n",
       "      <td>5.733896</td>\n",
       "      <td>-1.075174</td>\n",
       "    </tr>\n",
       "    <tr>\n",
       "      <th>3</th>\n",
       "      <td>7.122953</td>\n",
       "      <td>10.275589</td>\n",
       "    </tr>\n",
       "    <tr>\n",
       "      <th>4</th>\n",
       "      <td>3.935302</td>\n",
       "      <td>-1.948072</td>\n",
       "    </tr>\n",
       "  </tbody>\n",
       "</table>\n",
       "</div>"
      ],
      "text/plain": [
       "   skladowa1  skladowa2\n",
       "0   9.192837   1.948583\n",
       "1   2.387802  -3.768172\n",
       "2   5.733896  -1.075174\n",
       "3   7.122953  10.275589\n",
       "4   3.935302  -1.948072"
      ]
     },
     "execution_count": 241,
     "metadata": {},
     "output_type": "execute_result"
    }
   ],
   "source": [
    "gs_rak_DF.head()"
   ]
  },
  {
   "cell_type": "markdown",
   "id": "oriental-laptop",
   "metadata": {},
   "source": [
    "Możemy teraz wydobyć z modelu informację na ile przejął on wariancję z pełnych danych:\n"
   ]
  },
  {
   "cell_type": "code",
   "execution_count": 212,
   "id": "related-folks",
   "metadata": {},
   "outputs": [
    {
     "data": {
      "text/plain": [
       "array([0.44272026, 0.18971182])"
      ]
     },
     "execution_count": 212,
     "metadata": {},
     "output_type": "execute_result"
    }
   ],
   "source": [
    "pca_rak.explained_variance_ratio_"
   ]
  },
  {
   "cell_type": "code",
   "execution_count": 242,
   "id": "excessive-arrest",
   "metadata": {},
   "outputs": [
    {
     "data": {
      "text/plain": [
       "<matplotlib.legend.Legend at 0x26fc5ab0>"
      ]
     },
     "execution_count": 242,
     "metadata": {},
     "output_type": "execute_result"
    },
    {
     "data": {
      "image/png": "[encoded data removed]",
      "text/plain": [
       "<Figure size 720x720 with 1 Axes>"
      ]
     },
     "metadata": {
      "needs_background": "light"
     },
     "output_type": "display_data"
    }
   ],
   "source": [
    "fig=plt.figure(figsize=(10,10))\n",
    "ax=fig.add_subplot()\n",
    "ax.set_xlabel('główna składowa - 1',fontsize=20)\n",
    "ax.set_ylabel('główna składowa - 2',fontsize=20)\n",
    "ax.set_title(\"Główne składowe dla danych o raku piersi\",fontsize=20)\n",
    "targets = ['złośliwy', 'łagodny']\n",
    "colors = ['r', 'g']\n",
    "for target, color in zip(targets,colors):\n",
    "    maska = rak_DF['etykiety'] == target\n",
    "    ax.scatter(gs_rak_DF.loc[maska, 'skladowa1']\n",
    "               , gs_rak_DF.loc[maska, 'skladowa2'], c = color, s = 50)\n",
    "\n",
    "ax.legend(targets,prop={'size': 15})"
   ]
  },
  {
   "cell_type": "markdown",
   "id": "artistic-holocaust",
   "metadata": {},
   "source": [
    "Teraz możemy użyć któregoś z nadzorowanych klasyfikatorów (np. LogisticRegression)"
   ]
  },
  {
   "cell_type": "code",
   "execution_count": 243,
   "id": "suspended-compilation",
   "metadata": {},
   "outputs": [
    {
     "data": {
      "text/plain": [
       "LogisticRegression()"
      ]
     },
     "execution_count": 243,
     "metadata": {},
     "output_type": "execute_result"
    }
   ],
   "source": [
    "model=linear_model.LogisticRegression()\n",
    "model.fit(glowne_skladowe_rak,rak_etykiety)"
   ]
  },
  {
   "cell_type": "code",
   "execution_count": 245,
   "id": "intellectual-premiere",
   "metadata": {},
   "outputs": [],
   "source": [
    "gs_etykiety_predict=model.predict(glowne_skladowe_rak)"
   ]
  },
  {
   "cell_type": "code",
   "execution_count": 248,
   "id": "controlled-election",
   "metadata": {},
   "outputs": [
    {
     "data": {
      "text/plain": [
       "array([[197,  10],\n",
       "       [ 15, 347]], dtype=int64)"
      ]
     },
     "execution_count": 248,
     "metadata": {},
     "output_type": "execute_result"
    }
   ],
   "source": [
    "metrics.confusion_matrix(gs_etykiety_predict,rak_etykiety)"
   ]
  },
  {
   "cell_type": "markdown",
   "id": "municipal-silly",
   "metadata": {},
   "source": [
    "## Zadanie\n",
    "Zbadaj zbiór danych o winach (```datasets.load_wine()```).\n",
    "\n",
    "* Przeprowadź rzutowanie  w taki sposób, by przejęło ono co najmniej 90% wariancji. Ile jest liczbę głównych składowych?\n",
    "* Przeprowadź klasyfikację metodą regresji logistycznej i określ jej jakość.\n",
    "\n",
    "Uwaga: na zadanie trzeba patrzeć całościowo, a nie punkt po punkcie."
   ]
  },
  {
   "cell_type": "code",
   "execution_count": 4,
   "id": "prospective-david",
   "metadata": {},
   "outputs": [
    {
     "name": "stdout",
     "output_type": "stream",
     "text": [
      "['alcohol', 'malic_acid', 'ash', 'alcalinity_of_ash', 'magnesium', 'total_phenols', 'flavanoids', 'nonflavanoid_phenols', 'proanthocyanins', 'color_intensity', 'hue', 'od280/od315_of_diluted_wines', 'proline']\n",
      "['class_0' 'class_1' 'class_2']\n",
      "(178, 13)\n"
     ]
    }
   ],
   "source": [
    "# ładowanie danych\n",
    "wina=datasets.load_wine()\n",
    "wina_X=wina.data\n",
    "wina_y=wina.target\n",
    "print(wina.feature_names)\n",
    "print(wina.target_names)\n",
    "print(wina_X.shape)"
   ]
  },
  {
   "cell_type": "code",
   "execution_count": 5,
   "id": "another-crown",
   "metadata": {},
   "outputs": [
    {
     "data": {
      "text/html": [
       "<div>\n",
       "<style scoped>\n",
       "    .dataframe tbody tr th:only-of-type {\n",
       "        vertical-align: middle;\n",
       "    }\n",
       "\n",
       "    .dataframe tbody tr th {\n",
       "        vertical-align: top;\n",
       "    }\n",
       "\n",
       "    .dataframe thead th {\n",
       "        text-align: right;\n",
       "    }\n",
       "</style>\n",
       "<table border=\"1\" class=\"dataframe\">\n",
       "  <thead>\n",
       "    <tr style=\"text-align: right;\">\n",
       "      <th></th>\n",
       "      <th>alcohol</th>\n",
       "      <th>malic_acid</th>\n",
       "      <th>ash</th>\n",
       "      <th>alcalinity_of_ash</th>\n",
       "      <th>magnesium</th>\n",
       "      <th>total_phenols</th>\n",
       "      <th>flavanoids</th>\n",
       "      <th>nonflavanoid_phenols</th>\n",
       "      <th>proanthocyanins</th>\n",
       "      <th>color_intensity</th>\n",
       "      <th>hue</th>\n",
       "      <th>od280/od315_of_diluted_wines</th>\n",
       "      <th>proline</th>\n",
       "    </tr>\n",
       "  </thead>\n",
       "  <tbody>\n",
       "    <tr>\n",
       "      <th>0</th>\n",
       "      <td>14.23</td>\n",
       "      <td>1.71</td>\n",
       "      <td>2.43</td>\n",
       "      <td>15.6</td>\n",
       "      <td>127.0</td>\n",
       "      <td>2.80</td>\n",
       "      <td>3.06</td>\n",
       "      <td>0.28</td>\n",
       "      <td>2.29</td>\n",
       "      <td>5.64</td>\n",
       "      <td>1.04</td>\n",
       "      <td>3.92</td>\n",
       "      <td>1065.0</td>\n",
       "    </tr>\n",
       "    <tr>\n",
       "      <th>1</th>\n",
       "      <td>13.20</td>\n",
       "      <td>1.78</td>\n",
       "      <td>2.14</td>\n",
       "      <td>11.2</td>\n",
       "      <td>100.0</td>\n",
       "      <td>2.65</td>\n",
       "      <td>2.76</td>\n",
       "      <td>0.26</td>\n",
       "      <td>1.28</td>\n",
       "      <td>4.38</td>\n",
       "      <td>1.05</td>\n",
       "      <td>3.40</td>\n",
       "      <td>1050.0</td>\n",
       "    </tr>\n",
       "    <tr>\n",
       "      <th>2</th>\n",
       "      <td>13.16</td>\n",
       "      <td>2.36</td>\n",
       "      <td>2.67</td>\n",
       "      <td>18.6</td>\n",
       "      <td>101.0</td>\n",
       "      <td>2.80</td>\n",
       "      <td>3.24</td>\n",
       "      <td>0.30</td>\n",
       "      <td>2.81</td>\n",
       "      <td>5.68</td>\n",
       "      <td>1.03</td>\n",
       "      <td>3.17</td>\n",
       "      <td>1185.0</td>\n",
       "    </tr>\n",
       "    <tr>\n",
       "      <th>3</th>\n",
       "      <td>14.37</td>\n",
       "      <td>1.95</td>\n",
       "      <td>2.50</td>\n",
       "      <td>16.8</td>\n",
       "      <td>113.0</td>\n",
       "      <td>3.85</td>\n",
       "      <td>3.49</td>\n",
       "      <td>0.24</td>\n",
       "      <td>2.18</td>\n",
       "      <td>7.80</td>\n",
       "      <td>0.86</td>\n",
       "      <td>3.45</td>\n",
       "      <td>1480.0</td>\n",
       "    </tr>\n",
       "    <tr>\n",
       "      <th>4</th>\n",
       "      <td>13.24</td>\n",
       "      <td>2.59</td>\n",
       "      <td>2.87</td>\n",
       "      <td>21.0</td>\n",
       "      <td>118.0</td>\n",
       "      <td>2.80</td>\n",
       "      <td>2.69</td>\n",
       "      <td>0.39</td>\n",
       "      <td>1.82</td>\n",
       "      <td>4.32</td>\n",
       "      <td>1.04</td>\n",
       "      <td>2.93</td>\n",
       "      <td>735.0</td>\n",
       "    </tr>\n",
       "    <tr>\n",
       "      <th>...</th>\n",
       "      <td>...</td>\n",
       "      <td>...</td>\n",
       "      <td>...</td>\n",
       "      <td>...</td>\n",
       "      <td>...</td>\n",
       "      <td>...</td>\n",
       "      <td>...</td>\n",
       "      <td>...</td>\n",
       "      <td>...</td>\n",
       "      <td>...</td>\n",
       "      <td>...</td>\n",
       "      <td>...</td>\n",
       "      <td>...</td>\n",
       "    </tr>\n",
       "    <tr>\n",
       "      <th>173</th>\n",
       "      <td>13.71</td>\n",
       "      <td>5.65</td>\n",
       "      <td>2.45</td>\n",
       "      <td>20.5</td>\n",
       "      <td>95.0</td>\n",
       "      <td>1.68</td>\n",
       "      <td>0.61</td>\n",
       "      <td>0.52</td>\n",
       "      <td>1.06</td>\n",
       "      <td>7.70</td>\n",
       "      <td>0.64</td>\n",
       "      <td>1.74</td>\n",
       "      <td>740.0</td>\n",
       "    </tr>\n",
       "    <tr>\n",
       "      <th>174</th>\n",
       "      <td>13.40</td>\n",
       "      <td>3.91</td>\n",
       "      <td>2.48</td>\n",
       "      <td>23.0</td>\n",
       "      <td>102.0</td>\n",
       "      <td>1.80</td>\n",
       "      <td>0.75</td>\n",
       "      <td>0.43</td>\n",
       "      <td>1.41</td>\n",
       "      <td>7.30</td>\n",
       "      <td>0.70</td>\n",
       "      <td>1.56</td>\n",
       "      <td>750.0</td>\n",
       "    </tr>\n",
       "    <tr>\n",
       "      <th>175</th>\n",
       "      <td>13.27</td>\n",
       "      <td>4.28</td>\n",
       "      <td>2.26</td>\n",
       "      <td>20.0</td>\n",
       "      <td>120.0</td>\n",
       "      <td>1.59</td>\n",
       "      <td>0.69</td>\n",
       "      <td>0.43</td>\n",
       "      <td>1.35</td>\n",
       "      <td>10.20</td>\n",
       "      <td>0.59</td>\n",
       "      <td>1.56</td>\n",
       "      <td>835.0</td>\n",
       "    </tr>\n",
       "    <tr>\n",
       "      <th>176</th>\n",
       "      <td>13.17</td>\n",
       "      <td>2.59</td>\n",
       "      <td>2.37</td>\n",
       "      <td>20.0</td>\n",
       "      <td>120.0</td>\n",
       "      <td>1.65</td>\n",
       "      <td>0.68</td>\n",
       "      <td>0.53</td>\n",
       "      <td>1.46</td>\n",
       "      <td>9.30</td>\n",
       "      <td>0.60</td>\n",
       "      <td>1.62</td>\n",
       "      <td>840.0</td>\n",
       "    </tr>\n",
       "    <tr>\n",
       "      <th>177</th>\n",
       "      <td>14.13</td>\n",
       "      <td>4.10</td>\n",
       "      <td>2.74</td>\n",
       "      <td>24.5</td>\n",
       "      <td>96.0</td>\n",
       "      <td>2.05</td>\n",
       "      <td>0.76</td>\n",
       "      <td>0.56</td>\n",
       "      <td>1.35</td>\n",
       "      <td>9.20</td>\n",
       "      <td>0.61</td>\n",
       "      <td>1.60</td>\n",
       "      <td>560.0</td>\n",
       "    </tr>\n",
       "  </tbody>\n",
       "</table>\n",
       "<p>178 rows × 13 columns</p>\n",
       "</div>"
      ],
      "text/plain": [
       "     alcohol  malic_acid   ash  alcalinity_of_ash  magnesium  total_phenols  \\\n",
       "0      14.23        1.71  2.43               15.6      127.0           2.80   \n",
       "1      13.20        1.78  2.14               11.2      100.0           2.65   \n",
       "2      13.16        2.36  2.67               18.6      101.0           2.80   \n",
       "3      14.37        1.95  2.50               16.8      113.0           3.85   \n",
       "4      13.24        2.59  2.87               21.0      118.0           2.80   \n",
       "..       ...         ...   ...                ...        ...            ...   \n",
       "173    13.71        5.65  2.45               20.5       95.0           1.68   \n",
       "174    13.40        3.91  2.48               23.0      102.0           1.80   \n",
       "175    13.27        4.28  2.26               20.0      120.0           1.59   \n",
       "176    13.17        2.59  2.37               20.0      120.0           1.65   \n",
       "177    14.13        4.10  2.74               24.5       96.0           2.05   \n",
       "\n",
       "     flavanoids  nonflavanoid_phenols  proanthocyanins  color_intensity   hue  \\\n",
       "0          3.06                  0.28             2.29             5.64  1.04   \n",
       "1          2.76                  0.26             1.28             4.38  1.05   \n",
       "2          3.24                  0.30             2.81             5.68  1.03   \n",
       "3          3.49                  0.24             2.18             7.80  0.86   \n",
       "4          2.69                  0.39             1.82             4.32  1.04   \n",
       "..          ...                   ...              ...              ...   ...   \n",
       "173        0.61                  0.52             1.06             7.70  0.64   \n",
       "174        0.75                  0.43             1.41             7.30  0.70   \n",
       "175        0.69                  0.43             1.35            10.20  0.59   \n",
       "176        0.68                  0.53             1.46             9.30  0.60   \n",
       "177        0.76                  0.56             1.35             9.20  0.61   \n",
       "\n",
       "     od280/od315_of_diluted_wines  proline  \n",
       "0                            3.92   1065.0  \n",
       "1                            3.40   1050.0  \n",
       "2                            3.17   1185.0  \n",
       "3                            3.45   1480.0  \n",
       "4                            2.93    735.0  \n",
       "..                            ...      ...  \n",
       "173                          1.74    740.0  \n",
       "174                          1.56    750.0  \n",
       "175                          1.56    835.0  \n",
       "176                          1.62    840.0  \n",
       "177                          1.60    560.0  \n",
       "\n",
       "[178 rows x 13 columns]"
      ]
     },
     "execution_count": 5,
     "metadata": {},
     "output_type": "execute_result"
    }
   ],
   "source": [
    "wina_DF=pd.DataFrame(data=wina_X, columns=wina.feature_names)\n",
    "wina_DF"
   ]
  },
  {
   "cell_type": "code",
   "execution_count": 19,
   "id": "promotional-stuff",
   "metadata": {},
   "outputs": [],
   "source": [
    "# Podział na zbiór testowy i uczący. Należy zrobić to przed standaryzacją, a tym bardziej przed rzutowaniem.\n",
    "X_tr,X_test,y_tr,y_test=model_selection.train_test_split(wina_X,wina_y)"
   ]
  },
  {
   "cell_type": "code",
   "execution_count": 7,
   "id": "cultural-width",
   "metadata": {},
   "outputs": [],
   "source": [
    "# Standaryzacja\n",
    "scaler=StandardScaler()\n",
    "scaler.fit(X_tr)\n",
    "#tym samym skalowaniem przekształcamy zbiór uczący i testowy, żeby trafiały do tej samej przestrzeni\n",
    "X_tr=scaler.transform(X_tr)\n",
    "X_test=scaler.transform(X_test)"
   ]
  },
  {
   "cell_type": "code",
   "execution_count": 8,
   "id": "rotary-combat",
   "metadata": {},
   "outputs": [
    {
     "data": {
      "text/plain": [
       "8"
      ]
     },
     "execution_count": 8,
     "metadata": {},
     "output_type": "execute_result"
    }
   ],
   "source": [
    "#definiujemy model rzutujący PCA z parametrem 0.9 i uczymy go. Następnie sprawdzamy ile wygenerował składowych\n",
    "pca=PCA(0.9)\n",
    "pca.fit(X_tr)\n",
    "pca.n_components_"
   ]
  },
  {
   "cell_type": "code",
   "execution_count": 9,
   "id": "saving-placement",
   "metadata": {},
   "outputs": [],
   "source": [
    "#Model pca jest wyćwiczony, ale teraz trzeba zrzutować dane. Znowu: zarówno uczące i testowe, żeby leżały w jednej przestrzeni.\n",
    "X_tr=pca.transform(X_tr)\n",
    "X_test=pca.transform(X_test)"
   ]
  },
  {
   "cell_type": "code",
   "execution_count": 10,
   "id": "efficient-pakistan",
   "metadata": {},
   "outputs": [],
   "source": [
    "#Teraz jesteśmy dopiero w miejscu, gdzie przeprowadzimy klasyfikację\n",
    "model_LR=linear_model.LogisticRegression()\n",
    "model_LR.fit(X_tr,y_tr)\n",
    "y_pred=model_LR.predict(X_test)"
   ]
  },
  {
   "cell_type": "markdown",
   "id": "fiscal-engineer",
   "metadata": {},
   "source": [
    "Zobaczmy na ile model dopasował się do danych testowych, a ile do uczących"
   ]
  },
  {
   "cell_type": "code",
   "execution_count": 11,
   "id": "editorial-floor",
   "metadata": {},
   "outputs": [
    {
     "data": {
      "text/plain": [
       "array([[45,  0,  0],\n",
       "       [ 0, 53,  0],\n",
       "       [ 0,  0, 35]], dtype=int64)"
      ]
     },
     "execution_count": 11,
     "metadata": {},
     "output_type": "execute_result"
    }
   ],
   "source": [
    "# na danych uczących\n",
    "metrics.confusion_matrix(y_tr,model_LR.predict(X_tr))"
   ]
  },
  {
   "cell_type": "code",
   "execution_count": 12,
   "id": "wanted-responsibility",
   "metadata": {},
   "outputs": [
    {
     "data": {
      "text/plain": [
       "array([[14,  0,  0],\n",
       "       [ 0, 18,  0],\n",
       "       [ 0,  0, 13]], dtype=int64)"
      ]
     },
     "execution_count": 12,
     "metadata": {},
     "output_type": "execute_result"
    }
   ],
   "source": [
    "# na danych testowych\n",
    "metrics.confusion_matrix(y_test,y_pred)"
   ]
  },
  {
   "cell_type": "code",
   "execution_count": 13,
   "id": "interim-scheme",
   "metadata": {},
   "outputs": [
    {
     "name": "stdout",
     "output_type": "stream",
     "text": [
      "              precision    recall  f1-score   support\n",
      "\n",
      "           0       1.00      1.00      1.00        14\n",
      "           1       1.00      1.00      1.00        18\n",
      "           2       1.00      1.00      1.00        13\n",
      "\n",
      "    accuracy                           1.00        45\n",
      "   macro avg       1.00      1.00      1.00        45\n",
      "weighted avg       1.00      1.00      1.00        45\n",
      "\n"
     ]
    }
   ],
   "source": [
    "print(metrics.classification_report(y_test,y_pred))"
   ]
  },
  {
   "cell_type": "markdown",
   "id": "loose-bookmark",
   "metadata": {},
   "source": [
    "## Przyspieszanie operacji - pipeline"
   ]
  },
  {
   "cell_type": "code",
   "execution_count": 26,
   "id": "recorded-habitat",
   "metadata": {},
   "outputs": [],
   "source": [
    "from sklearn.pipeline import Pipeline\n",
    "pipe=Pipeline([\n",
    "    ('skalowanie',StandardScaler()),\n",
    "    ('redukcjaPCA',PCA()),\n",
    "    ('klasyfikator',linear_model.LogisticRegression())\n",
    "])"
   ]
  },
  {
   "cell_type": "code",
   "execution_count": 30,
   "id": "educated-affiliate",
   "metadata": {},
   "outputs": [
    {
     "data": {
      "text/plain": [
       "array([ 0,  0,  0, -1,  0,  0, -1,  0,  0,  0,  0,  0,  0,  0,  0,  0,  0,\n",
       "        0,  0,  0,  0,  0,  0,  0,  0,  0,  0,  0,  0,  0,  0,  0,  0,  0,\n",
       "        0,  0,  0,  0,  0,  0,  0,  0,  0,  0,  0])"
      ]
     },
     "execution_count": 30,
     "metadata": {},
     "output_type": "execute_result"
    }
   ],
   "source": [
    "pipe.fit(X_tr,y_tr)\n",
    "pipe.predict(X_tr)-y_tr\n",
    "pipe.predict(X_test)-y_test"
   ]
  },
  {
   "cell_type": "markdown",
   "id": "controlling-watershed",
   "metadata": {},
   "source": [
    "## Preprocessing\n",
    "\n",
    "Dotychczas używaliśmy StandardScaler. Porównajmy go oraz zastosowanie QuantileTransformer na [danych](https://raw.githubusercontent.com/koaning/calm-notebooks/master/scikit-prep/drawndata1.csv)"
   ]
  },
  {
   "cell_type": "code",
   "execution_count": 31,
   "id": "adjusted-community",
   "metadata": {},
   "outputs": [
    {
     "data": {
      "text/html": [
       "<div>\n",
       "<style scoped>\n",
       "    .dataframe tbody tr th:only-of-type {\n",
       "        vertical-align: middle;\n",
       "    }\n",
       "\n",
       "    .dataframe tbody tr th {\n",
       "        vertical-align: top;\n",
       "    }\n",
       "\n",
       "    .dataframe thead th {\n",
       "        text-align: right;\n",
       "    }\n",
       "</style>\n",
       "<table border=\"1\" class=\"dataframe\">\n",
       "  <thead>\n",
       "    <tr style=\"text-align: right;\">\n",
       "      <th></th>\n",
       "      <th>x</th>\n",
       "      <th>y</th>\n",
       "      <th>z</th>\n",
       "    </tr>\n",
       "  </thead>\n",
       "  <tbody>\n",
       "    <tr>\n",
       "      <th>0</th>\n",
       "      <td>58.080365</td>\n",
       "      <td>225.699042</td>\n",
       "      <td>a</td>\n",
       "    </tr>\n",
       "    <tr>\n",
       "      <th>1</th>\n",
       "      <td>238.867357</td>\n",
       "      <td>247.456645</td>\n",
       "      <td>a</td>\n",
       "    </tr>\n",
       "    <tr>\n",
       "      <th>2</th>\n",
       "      <td>156.218212</td>\n",
       "      <td>286.588782</td>\n",
       "      <td>a</td>\n",
       "    </tr>\n",
       "    <tr>\n",
       "      <th>3</th>\n",
       "      <td>262.004361</td>\n",
       "      <td>284.251445</td>\n",
       "      <td>a</td>\n",
       "    </tr>\n",
       "    <tr>\n",
       "      <th>4</th>\n",
       "      <td>185.243183</td>\n",
       "      <td>308.187571</td>\n",
       "      <td>a</td>\n",
       "    </tr>\n",
       "  </tbody>\n",
       "</table>\n",
       "</div>"
      ],
      "text/plain": [
       "            x           y  z\n",
       "0   58.080365  225.699042  a\n",
       "1  238.867357  247.456645  a\n",
       "2  156.218212  286.588782  a\n",
       "3  262.004361  284.251445  a\n",
       "4  185.243183  308.187571  a"
      ]
     },
     "execution_count": 31,
     "metadata": {},
     "output_type": "execute_result"
    }
   ],
   "source": [
    "df=pd.read_csv('https://raw.githubusercontent.com/koaning/calm-notebooks/master/scikit-prep/drawndata1.csv')\n",
    "df.head()"
   ]
  },
  {
   "cell_type": "code",
   "execution_count": 32,
   "id": "frank-socket",
   "metadata": {},
   "outputs": [
    {
     "data": {
      "text/plain": [
       "array(['a', 'b'], dtype=object)"
      ]
     },
     "execution_count": 32,
     "metadata": {},
     "output_type": "execute_result"
    }
   ],
   "source": [
    "df['z'].unique()"
   ]
  },
  {
   "cell_type": "code",
   "execution_count": 34,
   "id": "systematic-admission",
   "metadata": {},
   "outputs": [],
   "source": [
    "X=df[['x','y']].values\n",
    "y=df['z']=='a'"
   ]
  },
  {
   "cell_type": "code",
   "execution_count": 35,
   "id": "sonic-hydrogen",
   "metadata": {},
   "outputs": [
    {
     "data": {
      "image/png": "[encoded data removed]",
      "text/plain": [
       "<Figure size 432x288 with 1 Axes>"
      ]
     },
     "metadata": {
      "needs_background": "light"
     },
     "output_type": "display_data"
    }
   ],
   "source": [
    "plt.scatter(X[:, 0], X[:, 1], c=y);"
   ]
  },
  {
   "cell_type": "code",
   "execution_count": 42,
   "id": "configured-finder",
   "metadata": {},
   "outputs": [
    {
     "data": {
      "image/png": "[encoded data removed]",
      "text/plain": [
       "<Figure size 432x288 with 1 Axes>"
      ]
     },
     "metadata": {
      "needs_background": "light"
     },
     "output_type": "display_data"
    }
   ],
   "source": [
    "tr2=StandardScaler()\n",
    "X2=tr2.fit_transform(X)\n",
    "plt.scatter(X2[:, 0], X2[:, 1], c=y);"
   ]
  },
  {
   "cell_type": "code",
   "execution_count": 43,
   "id": "changing-calculator",
   "metadata": {},
   "outputs": [
    {
     "data": {
      "image/png": "[encoded data removed]",
      "text/plain": [
       "<Figure size 432x288 with 1 Axes>"
      ]
     },
     "metadata": {
      "needs_background": "light"
     },
     "output_type": "display_data"
    }
   ],
   "source": [
    "from sklearn.preprocessing import StandardScaler, QuantileTransformer\n",
    "tr1=QuantileTransformer(n_quantiles=100)\n",
    "X1=tr1.fit_transform(X)\n",
    "plt.scatter(X1[:, 0], X1[:, 1], c=y);"
   ]
  },
  {
   "cell_type": "markdown",
   "id": "radio-football",
   "metadata": {},
   "source": [
    "## Zadanie\n",
    "Spróbuj wstępnie obrobić [dane](https://raw.githubusercontent.com/koaning/calm-notebooks/master/scikit-prep/drawndata2.csv) i zastosować regresję logistyczną. Czy stosowanie StandardScaler lub QuantileTransformer jest dobre dla tych danych?"
   ]
  },
  {
   "cell_type": "code",
   "execution_count": 44,
   "id": "premium-pricing",
   "metadata": {},
   "outputs": [],
   "source": [
    "# Dane nie są ułożone liniowo, więc lepiej zastosować wielomianowy preprocessing np. PolynomialFeatures"
   ]
  },
  {
   "cell_type": "markdown",
   "id": "regulated-mount",
   "metadata": {},
   "source": [
    "## Preprocessing - dane kategoryczne\n",
    "\n",
    "[Samouczek o preprocessingu](https://scikit-learn.org/stable/modules/preprocessing.html)\n",
    "\n",
    "Zmiana danych kategorycznych na liczbowe:\n",
    "\n",
    "* ```sklearn.preprocessing.OneHotEncoder```\n",
    "* ```sklearn.preprocessing.OrdinarEncoder```\n",
    "\n",
    "[Artykuł o przetwarzaniu etykiet](https://towardsdatascience.com/guide-to-encoding-categorical-features-using-scikit-learn-for-machine-learning-5048997a5c79)\n",
    "\n",
    "## Wybrór najlepszego modelu\n",
    "```sklearn.model_selection.GridSearchCV``` - przeprowadza analizę modelu dla szeregu wartości parametrów z automatycznym doborem na zbiory testowe i uczące (cross validation)\n",
    "\n",
    "## Więcej o sklearn\n",
    "\n",
    "[kurs sk-learn na youTube](https://www.youtube.com/watch?v=0B5eIE_1vpU)"
   ]
  },
  {
   "cell_type": "code",
   "execution_count": null,
   "id": "iraqi-ultimate",
   "metadata": {},
   "outputs": [],
   "source": []
  }
 ],
 "metadata": {
  "kernelspec": {
   "display_name": "Python 3",
   "language": "python",
   "name": "python3"
  },
  "language_info": {
   "codemirror_mode": {
    "name": "ipython",
    "version": 3
   },
   "file_extension": ".py",
   "mimetype": "text/x-python",
   "name": "python",
   "nbconvert_exporter": "python",
   "pygments_lexer": "ipython3",
   "version": "3.7.3"
  }
 },
 "nbformat": 4,
 "nbformat_minor": 5
}
