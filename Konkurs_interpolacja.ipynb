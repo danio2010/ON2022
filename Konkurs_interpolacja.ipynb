{
 "cells": [
  {
   "cell_type": "code",
   "execution_count": 3,
   "metadata": {
    "id": "LX6GROm_7hia"
   },
   "outputs": [],
   "source": [
    "import sympy as sp\n",
    "X=[1,2,3,4,5,6]\n",
    "Y=[6,5,4,3,2,1]"
   ]
  },
  {
   "cell_type": "code",
   "execution_count": null,
   "metadata": {},
   "outputs": [],
   "source": []
  },
  {
   "cell_type": "markdown",
   "metadata": {
    "id": "BSB3qivj7m6f"
   },
   "source": [
    "Badamy szybkość wunkcji generującej symboliczny wzór. Niektóre Państwa funkcje zostały zmodyfikowane, żeby nie sprawdzały wartości opcjonalnego argumentu oraz nie weryfikowały długości list."
   ]
  },
  {
   "cell_type": "code",
   "execution_count": 4,
   "metadata": {
    "colab": {
     "base_uri": "https://localhost:8080/"
    },
    "id": "aXxYvmdf7wwl",
    "outputId": "a9a2ac85-c65e-449d-ea5d-999fde9a3bf5"
   },
   "outputs": [
    {
     "name": "stdout",
     "output_type": "stream",
     "text": [
      "352 µs ± 2.03 µs per loop (mean ± std. dev. of 7 runs, 1000 loops each)\n"
     ]
    }
   ],
   "source": [
    "#Daniel\n",
    "def interpolacja(X,Y,pt):\n",
    "  x=sp.symbols('x')\n",
    "  temp=sp.prod([x-el for el in X])\n",
    "  tabelaTemp=[temp/(x-X[i]) for i in range(len(X))]\n",
    "  wzor=sum([Y[i]*tabelaTemp[i]/(tabelaTemp[i].subs(x,X[i])) for i in range(len(X))])\n",
    "  return wzor\n",
    "%timeit interpolacja(X,Y,0)\n"
   ]
  },
  {
   "cell_type": "code",
   "execution_count": 5,
   "metadata": {
    "colab": {
     "base_uri": "https://localhost:8080/"
    },
    "id": "zEqbWx2R78lt",
    "outputId": "a394a053-9099-4cca-fce6-d3b1a1f755fa"
   },
   "outputs": [
    {
     "name": "stdout",
     "output_type": "stream",
     "text": [
      "458 µs ± 26.9 µs per loop (mean ± std. dev. of 7 runs, 1000 loops each)\n"
     ]
    }
   ],
   "source": [
    "# Anna Cabaj\n",
    "from sympy import *\n",
    "def lagrange2 (X,Y,x):\n",
    "  x=symbols('x')\n",
    "  f=symbols('f', cls=Function)\n",
    "  f=0\n",
    "  for k in range(len(Y)):\n",
    "    lk=Y[k]\n",
    "    for n in range(len(X)):\n",
    "      if n==k:\n",
    "        continue\n",
    "      lk=lk*(x-X[n])/(X[k]-X[n])\n",
    "    f=f+lk\n",
    "  return f\n",
    "%timeit lagrange2(X,Y,0) "
   ]
  },
  {
   "cell_type": "code",
   "execution_count": 6,
   "metadata": {
    "colab": {
     "base_uri": "https://localhost:8080/"
    },
    "id": "Nxycpt_3-Qfw",
    "outputId": "a960f821-e462-42ba-a323-ac1bfdc6fb30"
   },
   "outputs": [
    {
     "name": "stdout",
     "output_type": "stream",
     "text": [
      "64.3 µs ± 6.5 µs per loop (mean ± std. dev. of 7 runs, 10000 loops each)\n"
     ]
    }
   ],
   "source": [
    "# Aleksandra\n",
    "def Lagringo (X,Y,x, symbol):\n",
    "  w=0\n",
    "  if symbol:\n",
    "    sym = ''\n",
    "  for i in range(len(X)):\n",
    "    if i>0:\n",
    "      if symbol:\n",
    "        sym +='+'\n",
    "    iloczyn = 1\n",
    "    if symbol:\n",
    "      sym += str(Y[i])\n",
    "    for j in range (len(Y)):\n",
    "      if i != j:\n",
    "        iloczyn *= (x-X[j])/(X[i]-X[j])\n",
    "        if symbol:\n",
    "          sym += \"*(x-\"+ str(X[j])+ \")/(\"+ str(X[i])+ \"-\"+ str(X[j])+ \")\"\n",
    "    w += Y[i]*iloczyn\n",
    "  if symbol:\n",
    "    return w, sym\n",
    "  else:\n",
    "    return w\n",
    "\n",
    "%timeit Lagringo(X,Y,0,True)"
   ]
  },
  {
   "cell_type": "code",
   "execution_count": 7,
   "metadata": {
    "colab": {
     "base_uri": "https://localhost:8080/"
    },
    "id": "1VmmwyVh-ryn",
    "outputId": "31236bf8-f421-4689-b4a5-4f3d35baafcd"
   },
   "outputs": [
    {
     "name": "stdout",
     "output_type": "stream",
     "text": [
      "517 µs ± 105 µs per loop (mean ± std. dev. of 7 runs, 1000 loops each)\n"
     ]
    }
   ],
   "source": [
    "#Klaudia\n",
    "def wielomianp(X,Y,x):\n",
    "  h=symbols('h')\n",
    "  f=Function('f')\n",
    "  f=0\n",
    "  for i in range(len(Y)):\n",
    "    il=Y[i]\n",
    "    for j in range(len(X)):\n",
    "      if j==i:\n",
    "        continue\n",
    "      il=il*(h-X[j])/(X[i]-X[j])\n",
    "    f=f+il\n",
    "  return f\n",
    "\n",
    "%timeit wielomianp(X,Y,0)"
   ]
  },
  {
   "cell_type": "code",
   "execution_count": 8,
   "metadata": {
    "colab": {
     "base_uri": "https://localhost:8080/"
    },
    "id": "wNDswYHIBxqI",
    "outputId": "01ff731b-e92e-439e-87ac-ca8ec02328f1"
   },
   "outputs": [
    {
     "name": "stdout",
     "output_type": "stream",
     "text": [
      "489 µs ± 41.6 µs per loop (mean ± std. dev. of 7 runs, 1000 loops each)\n"
     ]
    }
   ],
   "source": [
    "#Wiktoria\n",
    "def Interpolacja_symbol(X,Y):\n",
    "  x=symbols('x')\n",
    "  n=0\n",
    "  for i in range (len(X)):\n",
    "    a = 1\n",
    "    for j in range (len(X)):\n",
    "      if j != i:\n",
    "        a=a*((x-X[j]) /(X[i]-X[j]))\n",
    "    n += a* Y[i]\n",
    "  return n\n",
    "%timeit Interpolacja_symbol(X,Y)"
   ]
  },
  {
   "cell_type": "code",
   "execution_count": 9,
   "metadata": {
    "colab": {
     "base_uri": "https://localhost:8080/"
    },
    "id": "zzSdrdypFWM3",
    "outputId": "7e91b9f4-3366-4c80-c328-126e18a1460b"
   },
   "outputs": [
    {
     "name": "stdout",
     "output_type": "stream",
     "text": [
      "463 µs ± 6.55 µs per loop (mean ± std. dev. of 7 runs, 1000 loops each)\n"
     ]
    }
   ],
   "source": [
    "#Wojtek\n",
    "from functools import reduce\n",
    "from operator import mul\n",
    "def interpolate(X, Y, x):\n",
    "  a = symbols(\"x\")\n",
    "  L = lambda x_i: lambda x_j: (a-x_j)/(x_i-x_j)\n",
    "  w = sum(y*reduce(mul, map(L(X[i]), X[:i]+X[i+1:])) for i,y in enumerate(Y))\n",
    "  return w\n",
    "\n",
    "%timeit interpolate(X,Y,0)"
   ]
  },
  {
   "cell_type": "code",
   "execution_count": 10,
   "metadata": {
    "colab": {
     "base_uri": "https://localhost:8080/"
    },
    "id": "3Nvs7EEHHYCw",
    "outputId": "6bda351c-25e1-4f06-e34e-1371b0315a07"
   },
   "outputs": [
    {
     "name": "stdout",
     "output_type": "stream",
     "text": [
      "530 µs ± 51 µs per loop (mean ± std. dev. of 7 runs, 1000 loops each)\n"
     ]
    }
   ],
   "source": [
    "#Marek\n",
    "def lagranż(a,b,c,d=0): #a,b\n",
    "  x=symbols('x')\n",
    "  value=Function('f')\n",
    "  value=0\n",
    "  for i in range(len(b)):\n",
    "    value_1=b[i]\n",
    "    for j in range(len(a)):\n",
    "      if i==j: continue\n",
    "      value_1=value_1*(x-a[j])/(a[i]-a[j])\n",
    "    value=value+value_1\n",
    "  return value\n",
    "\n",
    "%timeit lagranż(X,Y,0)"
   ]
  },
  {
   "cell_type": "code",
   "execution_count": 11,
   "metadata": {
    "colab": {
     "base_uri": "https://localhost:8080/"
    },
    "id": "b0XIejxeMyRd",
    "outputId": "4dbb1d13-4d1a-496d-bcac-81aa5f188cef"
   },
   "outputs": [
    {
     "name": "stdout",
     "output_type": "stream",
     "text": [
      "568 µs ± 64.4 µs per loop (mean ± std. dev. of 7 runs, 1000 loops each)\n"
     ]
    }
   ],
   "source": [
    "#Szymon\n",
    "def lagrange(X, Y, x):\n",
    "  x_ = symbols('x')\n",
    "  result = 0; lenght = len(X)\n",
    "  for i in range(lenght):\n",
    "    multi = 1\n",
    "    for j in range(lenght):\n",
    "      if j != i:\n",
    "        multi *= (x_ - X[j])/(X[i] - X[j])\n",
    "    result += Y[i] * multi\n",
    "  return result\n",
    "\n",
    "%timeit lagrange(X,Y,0)"
   ]
  },
  {
   "cell_type": "code",
   "execution_count": 12,
   "metadata": {
    "colab": {
     "base_uri": "https://localhost:8080/"
    },
    "id": "hF9Gf9UXNtB3",
    "outputId": "c24eed9c-f006-43ca-fbbe-6ce406f8ef91"
   },
   "outputs": [
    {
     "name": "stdout",
     "output_type": "stream",
     "text": [
      "533 µs ± 51.2 µs per loop (mean ± std. dev. of 7 runs, 1000 loops each)\n"
     ]
    }
   ],
   "source": [
    "#Anna Zgrzebna\n",
    "def wiel_inter_Lagrange(X,Y,x):\n",
    "    x1 = symbols('x')\n",
    "    sum = 0\n",
    "    n = len(X)\n",
    "    for i in range (n):\n",
    "        p = 1\n",
    "        for j in range (n):\n",
    "            if j != i:\n",
    "                p = p* ((x1-X[j])/(X[i]-X[j])) \n",
    "        sum = sum + Y[i]*p \n",
    "    return sum\n",
    "  \n",
    "%timeit wiel_inter_Lagrange(X,Y,0)"
   ]
  },
  {
   "cell_type": "code",
   "execution_count": 13,
   "metadata": {
    "colab": {
     "base_uri": "https://localhost:8080/"
    },
    "id": "nq8j8l28SIZU",
    "outputId": "ec887cde-bcb4-44d5-ce87-d67a532529ec"
   },
   "outputs": [
    {
     "name": "stdout",
     "output_type": "stream",
     "text": [
      "808 µs ± 101 µs per loop (mean ± std. dev. of 7 runs, 1000 loops each)\n"
     ]
    }
   ],
   "source": [
    "#Michał\n",
    "def lagrange(x, X, Y):\n",
    "  m = len(X) \n",
    "  z = 0.0\n",
    "  for i in range(m):\n",
    "      p = 1.0\n",
    "      for k in range(m):\n",
    "        if i == k: continue\n",
    "        p = p* ((x - X[k])/(X[i] - X[k]))\n",
    "      z += Y[i] * p \n",
    "  return z\n",
    "\n",
    "x=symbols('x')\n",
    "%timeit lagrange(x,X,Y)"
   ]
  },
  {
   "cell_type": "code",
   "execution_count": null,
   "metadata": {
    "id": "vRqo1-asTf6K"
   },
   "outputs": [],
   "source": []
  }
 ],
 "metadata": {
  "colab": {
   "name": "Konkurs_interpolacja.ipynb",
   "provenance": []
  },
  "kernelspec": {
   "display_name": "Python 3",
   "language": "python",
   "name": "python3"
  },
  "language_info": {
   "codemirror_mode": {
    "name": "ipython",
    "version": 3
   },
   "file_extension": ".py",
   "mimetype": "text/x-python",
   "name": "python",
   "nbconvert_exporter": "python",
   "pygments_lexer": "ipython3",
   "version": "3.7.3"
  }
 },
 "nbformat": 4,
 "nbformat_minor": 1
}
