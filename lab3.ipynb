{
  "nbformat": 4,
  "nbformat_minor": 0,
  "metadata": {
    "colab": {
      "name": "Untitled4.ipynb",
      "provenance": [],
      "authorship_tag": "ABX9TyMUjxyWiDay+RrOUIn9mV6N",
      "include_colab_link": true
    },
    "kernelspec": {
      "name": "python3",
      "display_name": "Python 3"
    },
    "language_info": {
      "name": "python"
    }
  },
  "cells": [
    {
      "cell_type": "markdown",
      "metadata": {
        "id": "view-in-github",
        "colab_type": "text"
      },
      "source": [
        "<a href=\"https://colab.research.google.com/github/danio2010/ON2022/blob/main/lab3.ipynb\" target=\"_parent\"><img src=\"https://colab.research.google.com/assets/colab-badge.svg\" alt=\"Open In Colab\"/></a>"
      ]
    },
    {
      "cell_type": "markdown",
      "source": [
        "#### Zadanie 1\n",
        "Dany jest słownik student={'imie':'Jan', 'nazwisko':'kowalski','wiek':25, 'wzrost':188, 'waga':80, 'miasto':'Toruń'}\n",
        "\n",
        "* Wypisz jego elementy w postaci \"klucz -> wartość \"\n",
        "* Zmień 'wzrost' na 182 \n",
        "* Dodaj klucz 'wynik matury' z dowolną wartością\n",
        "* Usuń klucz (i wartość) 'miasto'"
      ],
      "metadata": {
        "id": "VRVE0JVybqgv"
      }
    },
    {
      "cell_type": "code",
      "source": [
        "student={'imie':'Jan', 'nazwisko':'kowalski','wiek':25, 'wzrost':188, 'waga':80, 'miasto':'Toruń'}"
      ],
      "metadata": {
        "id": "L2nHz72XbnSi"
      },
      "execution_count": 2,
      "outputs": []
    },
    {
      "cell_type": "code",
      "source": [
        "for klucz in student.keys():\n",
        "  print(klucz+'->'+str(student[klucz]))"
      ],
      "metadata": {
        "colab": {
          "base_uri": "https://localhost:8080/"
        },
        "id": "jw_WIC4OdGTm",
        "outputId": "8dbd2cb5-18e6-4bad-eaf7-090e5b681176"
      },
      "execution_count": 5,
      "outputs": [
        {
          "output_type": "stream",
          "name": "stdout",
          "text": [
            "imie->Jan\n",
            "nazwisko->kowalski\n",
            "wiek->25\n",
            "wzrost->188\n",
            "waga->80\n",
            "miasto->Toruń\n"
          ]
        }
      ]
    },
    {
      "cell_type": "code",
      "source": [
        "student['wzrost']=182"
      ],
      "metadata": {
        "id": "gJuZSyozd-Ln"
      },
      "execution_count": 7,
      "outputs": []
    },
    {
      "cell_type": "code",
      "source": [
        "student"
      ],
      "metadata": {
        "colab": {
          "base_uri": "https://localhost:8080/"
        },
        "id": "KcF-f-gmeO52",
        "outputId": "9ba5bcd5-ff51-4c41-e2c4-1ec0f932e9fc"
      },
      "execution_count": 8,
      "outputs": [
        {
          "output_type": "execute_result",
          "data": {
            "text/plain": [
              "{'imie': 'Jan',\n",
              " 'miasto': 'Toruń',\n",
              " 'nazwisko': 'kowalski',\n",
              " 'waga': 80,\n",
              " 'wiek': 25,\n",
              " 'wzrost': 182}"
            ]
          },
          "metadata": {},
          "execution_count": 8
        }
      ]
    },
    {
      "cell_type": "code",
      "source": [
        "student['wynik matury']=20"
      ],
      "metadata": {
        "id": "JLbGiXRGeTNS"
      },
      "execution_count": 9,
      "outputs": []
    },
    {
      "cell_type": "code",
      "source": [
        "del student['miasto']"
      ],
      "metadata": {
        "id": "v_ltxeDkecAQ"
      },
      "execution_count": 10,
      "outputs": []
    },
    {
      "cell_type": "code",
      "source": [
        "student"
      ],
      "metadata": {
        "colab": {
          "base_uri": "https://localhost:8080/"
        },
        "id": "la-EDbxberm-",
        "outputId": "296bde50-2f88-401e-912d-cc30cb3306bb"
      },
      "execution_count": 11,
      "outputs": [
        {
          "output_type": "execute_result",
          "data": {
            "text/plain": [
              "{'imie': 'Jan',\n",
              " 'nazwisko': 'kowalski',\n",
              " 'waga': 80,\n",
              " 'wiek': 25,\n",
              " 'wynik matury': 20,\n",
              " 'wzrost': 182}"
            ]
          },
          "metadata": {},
          "execution_count": 11
        }
      ]
    },
    {
      "cell_type": "code",
      "source": [
        ""
      ],
      "metadata": {
        "id": "7eGQB6rOetHg"
      },
      "execution_count": null,
      "outputs": []
    },
    {
      "cell_type": "code",
      "source": [
        ""
      ],
      "metadata": {
        "id": "-hMsykpme2uE"
      },
      "execution_count": null,
      "outputs": []
    },
    {
      "cell_type": "markdown",
      "source": [
        "####Zadanie 2\n",
        "Dane są dwie listy równej długości\n",
        "\n",
        "klucze=['klucz1','klucz2','inny klucz', 'test']\n",
        "wartosci=[1,2,5,1]\n",
        "Utwórz w sposób zautomatyzowany (nie ręcznie) słownik, który kolejnym kluczom przypisze kolejne wartości."
      ],
      "metadata": {
        "id": "Mbs9JRESe3aH"
      }
    },
    {
      "cell_type": "code",
      "source": [
        ""
      ],
      "metadata": {
        "id": "Irf6Ra8He3vW"
      },
      "execution_count": null,
      "outputs": []
    }
  ]
}