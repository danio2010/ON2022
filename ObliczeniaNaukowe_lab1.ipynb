{
  "nbformat": 4,
  "nbformat_minor": 0,
  "metadata": {
    "colab": {
      "name": "ObliczeniaNaukowe_lab1",
      "provenance": [],
      "authorship_tag": "ABX9TyNzDJKtGN6kfzP0HHszZ7hV",
      "include_colab_link": true
    },
    "kernelspec": {
      "name": "python3",
      "display_name": "Python 3"
    },
    "language_info": {
      "name": "python"
    }
  },
  "cells": [
    {
      "cell_type": "markdown",
      "metadata": {
        "id": "view-in-github",
        "colab_type": "text"
      },
      "source": [
        "<a href=\"https://colab.research.google.com/github/danio2010/ON2022/blob/main/ObliczeniaNaukowe_lab1.ipynb\" target=\"_parent\"><img src=\"https://colab.research.google.com/assets/colab-badge.svg\" alt=\"Open In Colab\"/></a>"
      ]
    },
    {
      "cell_type": "code",
      "execution_count": null,
      "metadata": {
        "id": "kXjlVkU-QYHC"
      },
      "outputs": [],
      "source": [
        ""
      ]
    },
    {
      "cell_type": "markdown",
      "source": [
        "#LAB nr 1\n",
        "Plan:\n",
        "\n",
        "* Git/GitHub\n",
        "* wprowadzenie do Jupyter/Colab\n",
        "* Przypomnienie pythona"
      ],
      "metadata": {
        "id": "7LTRwJVrQnbV"
      }
    },
    {
      "cell_type": "markdown",
      "source": [
        "Zadanie 1. Założyć konto na GitHub (lub zalogować się)\n",
        "\n",
        "Zadanie 2. Utworzyć repozytorium o nazwie \"Obliczenia_naukowe\"\n",
        "\n",
        "Zadanie 3. Utworzyć w CoLab plik zad1.3.ipynb o treści \"Test wysyłania\", zapisać go na swoim GoogleDrive, a kopię zapisać w GitHub\n",
        "(https://towardsdatascience.com/google-drive-google-colab-github-dont-just-read-do-it-5554d5824228)\n",
        "\n",
        "Zadanie 4. Utworzyć w swoim repozytorium plik zad1.4.txt o dowolnej treści bezpośrednio w GitHub\n",
        "\n",
        "Zadanie 5. Dodaj nowe zagadnienie (issue) do repozytorium https://github.com/danio2010/ON2022\n",
        "\n",
        "Zadanie 6. Określ ile razy modyfikowany był plik ON_lab1.ipynb i wpisz tę liczbę to pliku zad1.6.txt"
      ],
      "metadata": {
        "id": "whr4IMEcbja1"
      }
    },
    {
      "cell_type": "markdown",
      "source": [
        "### Praca w konsoli\n",
        "Wejść do docelowego katalogu\n",
        "```git\n",
        "git config --global user.name <nazwa>\n",
        "git config --global user.mail <e-mail>\n",
        "git clone <adres ssh repozytorium na git> #należy skonfigurować klucze ssh lub gpg. Przy użyciu wersji https trzeba podawać token przy push\n",
        "git add <plik>\n",
        "git commit -m <wiadomość>\n",
        "git push\n",
        "```"
      ],
      "metadata": {
        "id": "DepPfhPHjkkM"
      }
    },
    {
      "cell_type": "code",
      "source": [
        "print('cześć')"
      ],
      "metadata": {
        "colab": {
          "base_uri": "https://localhost:8080/"
        },
        "id": "U40JWB12jl83",
        "outputId": "28c2990a-d420-4a72-f6d9-237c8dfab049"
      },
      "execution_count": 1,
      "outputs": [
        {
          "output_type": "stream",
          "name": "stdout",
          "text": [
            "cześć\n"
          ]
        }
      ]
    },
    {
      "cell_type": "markdown",
      "source": [
        ""
      ],
      "metadata": {
        "id": "l_UomwWklSTW"
      }
    },
    {
      "cell_type": "code",
      "source": [
        ""
      ],
      "metadata": {
        "id": "0DT9MziukNQq"
      },
      "execution_count": null,
      "outputs": []
    },
    {
      "cell_type": "markdown",
      "source": [
        "### Możliwości pól komentarza\n",
        "\n",
        "* Nagłówki\n",
        "```markdown\n",
        "# Sekcja 1\n",
        "# Sekcja 2\n",
        "## Podskecja sekcji 2\n",
        "# Sekcj\n",
        "```\n",
        "\n",
        "* Wyróżnianie tekstu\n",
        "\n",
        "Składnia | Efekt\n",
        "--- | ---\n",
        "`**bold text**` | **bold text**\n",
        "`*italicized text*` or `_italicized text_` | *italicized text*\n",
        "`~~strikethrough~~` | ~~strikethrough~~\n",
        "\n",
        "* Bloki z kodem python\n",
        "````\n",
        "```python\n",
        "print(\"a\")\n",
        "```\n",
        "````\n",
        "```python\n",
        "print(\"a\")\n",
        "```\n",
        "\n",
        "* Listy\n",
        "1. pierwszy\n",
        "1. drugi\n",
        "1. trzeci\n",
        "\n",
        "* LaTeX\n",
        " $\\lim_{n\\to\\infty}$\n"
      ],
      "metadata": {
        "id": "I3k3G4SRlFP0"
      }
    },
    {
      "cell_type": "markdown",
      "source": [
        "# Nagłówek 1\n",
        "## Pod nim\n",
        "\n",
        "# Sekcja 2 \n",
        "## Podesekcja\n",
        "### Zadanie\n",
        "### Zadanie 2\n",
        "\n",
        "**pogrubienie**"
      ],
      "metadata": {
        "id": "eqnY-dKskVle"
      }
    },
    {
      "cell_type": "code",
      "source": [
        "2+2"
      ],
      "metadata": {
        "colab": {
          "base_uri": "https://localhost:8080/"
        },
        "id": "_Y_B3pv8k8sI",
        "outputId": "f538b8e7-4802-444f-8503-883b5caa1090"
      },
      "execution_count": 2,
      "outputs": [
        {
          "output_type": "execute_result",
          "data": {
            "text/plain": [
              "4"
            ]
          },
          "metadata": {},
          "execution_count": 2
        }
      ]
    },
    {
      "cell_type": "code",
      "source": [
        "2**3"
      ],
      "metadata": {
        "colab": {
          "base_uri": "https://localhost:8080/"
        },
        "id": "7Tr5gGZRmw1t",
        "outputId": "6c06efd6-f261-4fc8-d64b-1fe227995713"
      },
      "execution_count": 3,
      "outputs": [
        {
          "output_type": "execute_result",
          "data": {
            "text/plain": [
              "8"
            ]
          },
          "metadata": {},
          "execution_count": 3
        }
      ]
    },
    {
      "cell_type": "code",
      "source": [
        "3+5>6"
      ],
      "metadata": {
        "colab": {
          "base_uri": "https://localhost:8080/"
        },
        "id": "Q95Gpo52mzby",
        "outputId": "19019eb3-ee77-4bcf-8315-2bf074371151"
      },
      "execution_count": 4,
      "outputs": [
        {
          "output_type": "execute_result",
          "data": {
            "text/plain": [
              "True"
            ]
          },
          "metadata": {},
          "execution_count": 4
        }
      ]
    },
    {
      "cell_type": "code",
      "source": [
        "import math"
      ],
      "metadata": {
        "id": "uvPNrDJKm14y"
      },
      "execution_count": 6,
      "outputs": []
    },
    {
      "cell_type": "code",
      "source": [
        "math.sin(30)"
      ],
      "metadata": {
        "colab": {
          "base_uri": "https://localhost:8080/"
        },
        "id": "IfRrgemRm5XU",
        "outputId": "e8573aec-acdf-4ed6-9014-3a9f68d9dc0e"
      },
      "execution_count": 7,
      "outputs": [
        {
          "output_type": "execute_result",
          "data": {
            "text/plain": [
              "-0.9880316240928618"
            ]
          },
          "metadata": {},
          "execution_count": 7
        }
      ]
    },
    {
      "cell_type": "code",
      "source": [
        "math.log(4,2)"
      ],
      "metadata": {
        "colab": {
          "base_uri": "https://localhost:8080/"
        },
        "id": "TJ-II_0wnGHF",
        "outputId": "a9592b00-6146-4619-e6a8-4f505222d854"
      },
      "execution_count": 8,
      "outputs": [
        {
          "output_type": "execute_result",
          "data": {
            "text/plain": [
              "2.0"
            ]
          },
          "metadata": {},
          "execution_count": 8
        }
      ]
    },
    {
      "cell_type": "code",
      "source": [
        ""
      ],
      "metadata": {
        "id": "wzbQ2a3UnLCP"
      },
      "execution_count": null,
      "outputs": []
    },
    {
      "cell_type": "markdown",
      "source": [
        "### Zadanie domowe lab1\n",
        "Przygotuj w CoLab dokument, który będzie zawierał tytuł oraz cztery sekcje (nazwij je dowolnie). W pierwszej sekcji umieść skrypt, który zapyta Cię o imię, a następnie przywita Cię po imieniu. W drugiej skecji wstaw (w polu komentarza) kod tego skryptu. W trzeciej umieść dowolny obrazek. \n",
        "\n",
        "W czwartej sekcji napisz **funkcję** bezargumentową o nazwie listownik(), która\n",
        "* zapyta o długośc listy, która musi znaleźć się w przedziale $[10,20]$ (przypilnuj użytkownika)\n",
        "* wygeneruje  i wydrukuje listę o odpowiedniej długości z liczbami losowymi  przedziału $[0,10]$\n",
        "* **zwróci** liczbę unikalnych wartości w wygenerowanej liście\n",
        "\n",
        "W rozwiązaniu można korzystać z funkcji pomocniczych.\n",
        "\n",
        "Nazwij plik zadDomowe.ipynb i umieść w swoim repozytorium."
      ],
      "metadata": {
        "id": "v1tKY-6VnceK"
      }
    },
    {
      "cell_type": "code",
      "source": [
        ""
      ],
      "metadata": {
        "id": "0xNU_-6UndDK"
      },
      "execution_count": null,
      "outputs": []
    }
  ]
}